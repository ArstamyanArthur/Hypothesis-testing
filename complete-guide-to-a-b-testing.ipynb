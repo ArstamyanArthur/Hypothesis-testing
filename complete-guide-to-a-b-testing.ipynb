{
 "cells": [
  {
   "cell_type": "markdown",
   "id": "7744eeb0",
   "metadata": {
    "papermill": {
     "duration": 0.013077,
     "end_time": "2024-06-17T06:39:53.775504",
     "exception": false,
     "start_time": "2024-06-17T06:39:53.762427",
     "status": "completed"
    },
    "tags": []
   },
   "source": [
    "# Complete Guide to A/B Testing\n",
    "\n",
    "Welcome to this comprehensive guide on A/B testing! This notebook is designed to equip you with everything you need to know, from basic concepts to advanced applications in data science. Whether you're just starting out or you're a seasoned professional looking to sharpen your skills, this guide is for you!\n",
    "\n",
    "A/B testing, also known as split testing, is a method of comparing two versions of a webpage, app, or other user experiences to determine which one performs better. It is widely used in marketing, product development, and UX design to make data-driven decisions that improve user engagement and conversion rates.\n",
    "\n",
    "## What Will You Learn?\n",
    "\n",
    "We'll dive into a variety of A/B testing techniques, each with a unique purpose in data analysis. By the end, you'll have a toolkit ready to tackle any data-driven challenge. Here's a peek at what we'll cover:\n",
    "\n",
    "- **Binary A/B Testing:** Learn how to compare two versions of a binary outcome to determine which one performs better.\n",
    "- **Continuous A/B Testing:** Discover how to compare means from continuous data and understand the statistical significance of their differences.\n",
    "\n",
    "## Why This Guide?\n",
    "\n",
    "- **Step-by-Step Tutorials:** Each section includes clear explanations followed by practical examples, ensuring you not only learn but also apply your knowledge.\n",
    "- **Interactive Learning:** Engage with interactive code cells that allow you to see the effects of A/B tests in real-time.\n",
    "\n",
    "\n",
    "### How to Use This Notebook\n",
    "\n",
    "- **Run the Cells:** Follow along with the code examples by running the cells yourself. Play around with the parameters to see how the results change.\n",
    "- **Explore Further:** After completing the guided sections, try applying the tests to your own datasets to reinforce your learning.\n",
    "\n",
    "Get ready to unlock the full potential of A/B testing in data science. Let's dive in and turn data into decisions!\n"
   ]
  },
  {
   "cell_type": "markdown",
   "id": "96999072",
   "metadata": {
    "papermill": {
     "duration": 0.011111,
     "end_time": "2024-06-17T06:39:53.798431",
     "exception": false,
     "start_time": "2024-06-17T06:39:53.787320",
     "status": "completed"
    },
    "tags": []
   },
   "source": [
    "#### A/B Testing Workflow\n",
    "\n",
    "## Step 1: Exploratory Data Analysis (EDA) and Problem Definition\n",
    "\n",
    "### EDA and Dataset Check\n",
    "Before diving into the A/B test, it's crucial to perform an exploratory data analysis (EDA) to understand the dataset's structure and characteristics. This step involves:\n",
    "\n",
    "1. **Loading the Dataset**: We imported the dataset `Cookie_Cats_cleaned_v01.csv` and displayed the first few rows to get a sense of the data.\n",
    "2. **Summary Statistics**: We generated summary statistics to understand the central tendency, dispersion, and distribution of the data.\n",
    "3. **Missing Values**: We checked for any missing values and ensured they were appropriately handled.\n",
    "4. **Data Types**: We verified the data types of each column to ensure correctness.\n",
    "5. **Descriptive Statistics by Group**: We grouped the data by the `version` column and calculated descriptive statistics, including skewness and kurtosis, to understand the distribution and identify any potential outliers.\n",
    "6. **Cross-tabulations**: We created cross-tabulations for `version` with `retention_1` and `retention_7` to observe the retention rates for different versions of the game.\n",
    "7. **Plots**: We used various plots to visualize the distribution of data and retention rates, which helped us better understand the data.\n",
    "\n",
    "### Define the Problem\n",
    "Clearly defining the problem is a crucial step. For an A/B test, we typically compare two groups to determine if there is a significant difference between them.\n",
    "\n",
    "- **Control Group**: The group that does not receive the treatment or intervention.\n",
    "- **Treatment Group**: The group that receives the treatment or intervention.\n",
    "\n",
    "### Define Null and Alternative Hypothesis\n",
    "- **Null Hypothesis (H0)**: There is no difference between the control and treatment groups.\n",
    "- **Alternative Hypothesis (H1)**: There is a significant difference between the control and treatment groups.\n",
    "\n",
    "## Step 2: Data Preprocessing\n",
    "\n",
    "Based on the findings from the EDA and the defined problem, preprocess the data to ensure it's ready for testing.\n",
    "\n",
    "### Preprocessing Steps:\n",
    "1. **Handling Missing Values**: Remove or impute missing values as identified in the EDA.\n",
    "2. **Outlier Detection**: Identify and handle outliers that may skew the results.\n",
    "3. **Data Transformation**: Normalize or standardize data if necessary, especially for continuous variables.\n",
    "4. **Feature Engineering**: Create new features if needed to better capture the characteristics of the data.\n",
    "\n",
    "## Step 3: Set the Probability of Type I and Type II Errors\n",
    "\n",
    "### Type I Error (Alpha)\n",
    "- **Definition**: The probability of rejecting the null hypothesis when it is true.\n",
    "- **Common Value**: 0.05 (5%)\n",
    "\n",
    "### Type II Error (Beta)\n",
    "- **Definition**: The probability of failing to reject the null hypothesis when it is false.\n",
    "- **Common Value**: 0.20 (20%)\n",
    "- **Power of the Test**: 1 - Beta, often set to 0.80 (80%)\n",
    "\n",
    "## Step 4: Calculate Sample Size and Choose Samples\n",
    "\n",
    "### Calculate Sample Size\n",
    "To determine the necessary sample size, use the formula that incorporates the desired significance level (alpha), power (1 - beta), and effect size.\n",
    "\n",
    "#### For Binary Outcomes:\n",
    "The sample size formula for binary outcomes is given by:\n",
    "\n",
    "$$\n",
    "n = \\left( Z_{1-\\alpha/2} + Z_{1-\\beta} \\right)^2 \\frac{p_1(1 - p_1) + p_2(1 - p_2)}{(p_1 - p_2)^2}\n",
    "$$\n",
    "\n",
    "Where:\n",
    "- $( Z_{1-\\alpha/2} $) is the Z-value for the chosen significance level.\n",
    "- $( Z_{1-\\beta} $) is the Z-value for the chosen power.\n",
    "- $( p_1 $) and $( p_2 $) are the proportions of success in the control and treatment groups, respectively.\n",
    "\n",
    "#### For Continuous Outcomes:\n",
    "The sample size formula for continuous outcomes is given by:\n",
    "\n",
    "$$\n",
    "n = \\left( \\frac{Z_{\\alpha/2} + Z_{\\beta}}{\\mu_1 - \\mu_2} \\right)^2 \\cdot 2\\sigma^2\n",
    "$$\n",
    "\n",
    "Where:\n",
    "- $( Z_{\\alpha/2} $) is the Z-value for the chosen significance level.\n",
    "- $( Z_{\\beta} $) is the Z-value for the chosen power.\n",
    "- $( \\mu_1 $) and $( \\mu_2 $) are the means of the control and treatment groups, respectively.\n",
    "- $( \\sigma $) is the standard deviation of the population.\n",
    "\n",
    "### Choose Samples\n",
    "- Randomly select samples for the control and treatment groups based on the calculated sample size.\n",
    "- Ensure the samples are representative of the population.\n",
    "\n",
    "## Step 5: Assign Users\n",
    "- **Assign Users**: Randomly assign users to the control or treatment group.\n",
    "\n",
    "## Step 6: Perform Statistical Test \n",
    "- For binary outcomes, use a Z-test.\n",
    "- For continuous outcomes, a t-test can be used.\n",
    "\n",
    "#### Note:\n",
    "While we use a Z-test for binary outcomes in this guide, other tests like Chi-Square test or Fisher's Exact Test can also be used depending on the specific requirements and data characteristics.\n",
    "\n",
    "## Step 7: Analyze the Test Results\n",
    "\n",
    "### Practical Significance\n",
    "- Beyond statistical significance, assess the practical significance of the results to determine if the observed effect is meaningful in a real-world context.\n",
    "\n",
    "### Report Findings\n",
    "- Summarize the results, including the test statistic, p-value, confidence intervals, and any practical implications.\n",
    "- Visualize the results using graphs and charts for a clearer understanding.\n",
    "\n"
   ]
  },
  {
   "cell_type": "markdown",
   "id": "51dd5466",
   "metadata": {
    "papermill": {
     "duration": 0.010955,
     "end_time": "2024-06-17T06:39:53.820766",
     "exception": false,
     "start_time": "2024-06-17T06:39:53.809811",
     "status": "completed"
    },
    "tags": []
   },
   "source": [
    "# 1.1 EDA and Dataset Check\n",
    "\n",
    "Before diving into the A/B test, it's crucial to perform an exploratory data analysis (EDA) to understand the dataset's structure and characteristics. This step involves:\n",
    "\n",
    "1. **Loading the Dataset**: \n",
    "   - We imported the dataset `Cookie_Cats_cleaned_v01.csv` and displayed the first few rows to get a sense of the data.\n",
    "   - This helps in identifying the columns and understanding the initial structure of the dataset.\n",
    "\n",
    "\n",
    "2. **Summary Statistics**:\n",
    "   - We generated summary statistics for the dataset to understand the central tendency (mean, median), dispersion (standard deviation, variance), and the overall distribution of the data.\n",
    "\n",
    "\n",
    "3. **Missing Values**:\n",
    "   - We checked for any missing values in the dataset and ensured they were appropriately handled.\n",
    "   - Handling missing values is crucial for maintaining the integrity of the dataset and avoiding biases in the analysis.\n",
    "\n",
    "\n",
    "4. **Data Types**:\n",
    "   - We verified the data types of each column to ensure correctness.\n",
    "   - Correct data types are essential for performing accurate calculations and analyses.\n",
    "\n",
    "\n",
    "5. **Descriptive Statistics by Group**:\n",
    "   - We grouped the data by the `version` column (indicating control or treatment groups) and calculated descriptive statistics for each group.\n",
    "   - This includes measures such as mean, standard deviation, skewness, and kurtosis to understand the distribution within each group and identify any potential outliers.\n",
    "\n",
    "\n",
    "6. **Cross-tabulations**:\n",
    "   - We created cross-tabulations for `version` with `retention_1` and `retention_7` to observe the retention rates for different versions of the game.\n",
    "   - Cross-tabulations help in understanding the relationship between categorical variables and provide a clear picture of how different groups perform with respect to retention.\n",
    "\n",
    "\n",
    "7. **Plots**:\n",
    "   - We used various plots to visualize the distribution of data and retention rates. These plots include bar plots, box plots, and heatmaps for correlation analysis.\n",
    "   - Visualizations help in better understanding the data by providing a graphical representation of the distributions, relationships, and patterns.\n",
    "\n",
    "\n",
    "By performing these EDA steps, we ensure a comprehensive understanding of the dataset, identify any potential issues or biases, and prepare the data for further analysis in the A/B testing workflow. This foundational step is essential for making informed decisions and deriving meaningful insights from the A/B test.\n"
   ]
  },
  {
   "cell_type": "code",
   "execution_count": 78,
   "id": "75b82b27",
   "metadata": {
    "execution": {
     "iopub.execute_input": "2024-06-17T06:39:53.845587Z",
     "iopub.status.busy": "2024-06-17T06:39:53.845154Z",
     "iopub.status.idle": "2024-06-17T06:39:56.083503Z",
     "shell.execute_reply": "2024-06-17T06:39:56.082416Z"
    },
    "papermill": {
     "duration": 2.25394,
     "end_time": "2024-06-17T06:39:56.086227",
     "exception": false,
     "start_time": "2024-06-17T06:39:53.832287",
     "status": "completed"
    },
    "tags": []
   },
   "outputs": [
    {
     "name": "stdout",
     "output_type": "stream",
     "text": [
      "First few rows of the dataset:\n",
      "        version  sum_gamerounds  retention_1  retention_7\n",
      "userid                                                   \n",
      "116     gate_30               3        False        False\n",
      "337     gate_30              38         True        False\n",
      "377     gate_40             165         True        False\n",
      "483     gate_40               1        False        False\n",
      "488     gate_40             179         True         True\n",
      "\n",
      "Summary statistics of the dataset:\n",
      "       sum_gamerounds\n",
      "count    90189.000000\n",
      "mean        51.872457\n",
      "std        195.050858\n",
      "min          0.000000\n",
      "25%          5.000000\n",
      "50%         16.000000\n",
      "75%         51.000000\n",
      "max      49854.000000\n",
      "        version  sum_gamerounds retention_1 retention_7\n",
      "count     90189    90189.000000       90189       90189\n",
      "unique        2             NaN           2           2\n",
      "top     gate_40             NaN       False       False\n",
      "freq      45489             NaN       50036       73408\n",
      "mean        NaN       51.872457         NaN         NaN\n",
      "std         NaN      195.050858         NaN         NaN\n",
      "min         NaN        0.000000         NaN         NaN\n",
      "25%         NaN        5.000000         NaN         NaN\n",
      "50%         NaN       16.000000         NaN         NaN\n",
      "75%         NaN       51.000000         NaN         NaN\n",
      "max         NaN    49854.000000         NaN         NaN\n",
      "\n",
      "Data types and non-null counts:\n",
      "<class 'pandas.core.frame.DataFrame'>\n",
      "Int64Index: 90189 entries, 116 to 9999861\n",
      "Data columns (total 4 columns):\n",
      " #   Column          Non-Null Count  Dtype \n",
      "---  ------          --------------  ----- \n",
      " 0   version         90189 non-null  object\n",
      " 1   sum_gamerounds  90189 non-null  int64 \n",
      " 2   retention_1     90189 non-null  bool  \n",
      " 3   retention_7     90189 non-null  bool  \n",
      "dtypes: bool(2), int64(1), object(1)\n",
      "memory usage: 2.2+ MB\n",
      "None\n",
      "\n",
      "Missing values in the dataset:\n",
      "version           0\n",
      "sum_gamerounds    0\n",
      "retention_1       0\n",
      "retention_7       0\n",
      "dtype: int64\n"
     ]
    }
   ],
   "source": [
    "import pandas as pd\n",
    "import numpy as np\n",
    "from scipy.stats import skew, kurtosis\n",
    "\n",
    "# Load the dataset\n",
    "df = pd.read_csv('datasets/Cookie_Cats_cleaned_v01.csv')\n",
    "\n",
    "# Check if user_id is not repetitive\n",
    "if df['userid'].duplicated().any():\n",
    "    print(\"Duplicates found in user_id. Dropping duplicates...\")\n",
    "    df = df.drop_duplicates(subset='userid')\n",
    "\n",
    "# Set user_id as the index\n",
    "df.set_index('userid', inplace=True)\n",
    "\n",
    "# Display the first few rows of the dataset\n",
    "print(\"First few rows of the dataset:\")\n",
    "print(df.head())\n",
    "\n",
    "# Display the summary statistics of the dataset\n",
    "print(\"\\nSummary statistics of the dataset:\")\n",
    "print(df.describe())\n",
    "print(df.describe(include='all'))\n",
    "\n",
    "# Display the data types and non-null counts\n",
    "print(\"\\nData types and non-null counts:\")\n",
    "print(df.info())\n",
    "\n",
    "# Check for missing values\n",
    "print(\"\\nMissing values in the dataset:\")\n",
    "print(df.isnull().sum())\n"
   ]
  },
  {
   "cell_type": "code",
   "execution_count": 17,
   "id": "dcec97fb",
   "metadata": {
    "execution": {
     "iopub.execute_input": "2024-06-17T06:39:56.112422Z",
     "iopub.status.busy": "2024-06-17T06:39:56.112030Z",
     "iopub.status.idle": "2024-06-17T06:39:56.149409Z",
     "shell.execute_reply": "2024-06-17T06:39:56.147754Z"
    },
    "papermill": {
     "duration": 0.053826,
     "end_time": "2024-06-17T06:39:56.151779",
     "exception": false,
     "start_time": "2024-06-17T06:39:56.097953",
     "status": "completed"
    },
    "tags": []
   },
   "outputs": [
    {
     "name": "stdout",
     "output_type": "stream",
     "text": [
      "\n",
      "Descriptive Statistics (including skewness and kurtosis):\n",
      "                  count       mean         std  min  25%   50%   75%      max  \\\n",
      "sum_gamerounds  90189.0  51.872457  195.050858  0.0  5.0  16.0  51.0  49854.0   \n",
      "\n",
      "                  skewness      kurtosis  \n",
      "sum_gamerounds  185.436313  47130.369631  \n",
      "\n",
      "Percentage of each category in 'version':\n",
      "gate_40    50.437415\n",
      "gate_30    49.562585\n",
      "Name: version, dtype: float64\n",
      "\n",
      "Percentage of each category in 'retention_1':\n",
      "False    55.47905\n",
      "True     44.52095\n",
      "Name: retention_1, dtype: float64\n",
      "\n",
      "Percentage of each category in 'retention_7':\n",
      "False    81.393518\n",
      "True     18.606482\n",
      "Name: retention_7, dtype: float64\n"
     ]
    }
   ],
   "source": [
    "# Descriptive statistics with skewness and kurtosis for numeric columns\n",
    "numeric_cols = df.select_dtypes(include=[np.number]).columns\n",
    "descriptive_stats = df[numeric_cols].describe().T\n",
    "descriptive_stats['skewness'] = df[numeric_cols].skew()\n",
    "descriptive_stats['kurtosis'] = df[numeric_cols].kurtosis()\n",
    "print(\"\\nDescriptive Statistics (including skewness and kurtosis):\")\n",
    "print(descriptive_stats)\n",
    "\n",
    "# Percentage of each category in categorical features\n",
    "version_counts = df['version'].value_counts(normalize=True) * 100\n",
    "retention_1_counts = df['retention_1'].value_counts(normalize=True) * 100\n",
    "retention_7_counts = df['retention_7'].value_counts(normalize=True) * 100\n",
    "\n",
    "print(\"\\nPercentage of each category in 'version':\")\n",
    "print(version_counts)\n",
    "print(\"\\nPercentage of each category in 'retention_1':\")\n",
    "print(retention_1_counts)\n",
    "print(\"\\nPercentage of each category in 'retention_7':\")\n",
    "print(retention_7_counts)\n"
   ]
  },
  {
   "cell_type": "code",
   "execution_count": 28,
   "id": "02fd2eef",
   "metadata": {
    "execution": {
     "iopub.execute_input": "2024-06-17T06:39:56.177905Z",
     "iopub.status.busy": "2024-06-17T06:39:56.177544Z",
     "iopub.status.idle": "2024-06-17T06:39:56.235121Z",
     "shell.execute_reply": "2024-06-17T06:39:56.233622Z"
    },
    "papermill": {
     "duration": 0.074154,
     "end_time": "2024-06-17T06:39:56.237442",
     "exception": false,
     "start_time": "2024-06-17T06:39:56.163288",
     "status": "completed"
    },
    "tags": []
   },
   "outputs": [
    {
     "name": "stdout",
     "output_type": "stream",
     "text": [
      "\n",
      "Cross-tabulation for version and retention_1:\n",
      "retention_1     False      True\n",
      "version                        \n",
      "gate_30      0.551812  0.448188\n",
      "gate_40      0.557717  0.442283\n",
      "\n",
      "Cross-tabulation for version and retention_7:\n",
      "   version  Did Not Return  Returned\n",
      "0  gate_30        0.809799  0.190201\n",
      "1  gate_40        0.818000  0.182000\n",
      "\n",
      "Cross-tabulation for retention_1 and retention_7:\n",
      "retention_7     False      True\n",
      "retention_1                    \n",
      "False        0.928072  0.071928\n",
      "True         0.671706  0.328294\n"
     ]
    }
   ],
   "source": [
    "# Cross-tabulation for version and retention_1\n",
    "crosstab_retention_1 = pd.crosstab(df['version'], df['retention_1'], normalize='index')\n",
    "# crosstab_retention_1.columns = ['Did Not Return', 'Returned']\n",
    "# crosstab_retention_1 = crosstab_retention_1.reset_index()\n",
    "\n",
    "# Cross-tabulation for version and retention_7\n",
    "crosstab_retention_7 = pd.crosstab(df['version'], df['retention_7'], normalize='index')\n",
    "crosstab_retention_7.columns = ['Did Not Return', 'Returned']\n",
    "crosstab_retention_7 = crosstab_retention_7.reset_index()\n",
    "\n",
    "# Cross-tabulation for version and retention_7\n",
    "crosstab_retention_7_1 = pd.crosstab(df['retention_1'], df['retention_7'], normalize='index')\n",
    "# crosstab_retention_7_1.columns = ['Did Not Return', 'Returned']\n",
    "# crosstab_retention_7_1 = crosstab_retention_7_1.reset_index()\n",
    "\n",
    "print(\"\\nCross-tabulation for version and retention_1:\")\n",
    "print(crosstab_retention_1)\n",
    "\n",
    "print(\"\\nCross-tabulation for version and retention_7:\")\n",
    "print(crosstab_retention_7)\n",
    "\n",
    "print(\"\\nCross-tabulation for retention_1 and retention_7:\")\n",
    "print(crosstab_retention_7_1)"
   ]
  },
  {
   "cell_type": "markdown",
   "id": "7b40ec6a",
   "metadata": {},
   "source": [
    "## Looking at cross-tabulation for retention_1 and retention_7 seems like these 2 variables aren't independent\n",
    "## Let's see with how much significance level we can reject these 2 being independent using Chi-Square Test for Independence\n",
    "## Hypotheses for Chi-Square Test for Independence\n",
    "\n",
    "- **Null Hypothesis (H0)**: No association between the categorical variables (independent).\n",
    "- **Alternative Hypothesis (H1)**: An association exists between the categorical variables (not independent).\n",
    "\n",
    "## To reject null hypothesis with significance level=a we need p(p_value) < a or chi_statistic to be not less than the value corresponding to the dof=1 and significance level=a pair at chi-square table."
   ]
  },
  {
   "cell_type": "code",
   "execution_count": 43,
   "id": "df13516f",
   "metadata": {},
   "outputs": [
    {
     "name": "stdout",
     "output_type": "stream",
     "text": [
      "retention_7  False   True\n",
      "retention_1              \n",
      "False        46437   3599\n",
      "True         26971  13182\n",
      "\n",
      "expected_frequencies:\n",
      "[[40726.06069476  9309.93930524]\n",
      " [32681.93930524  7471.06069476]]\n",
      "chi_statistic: 9665.803068737494\n",
      "p_value: 0.0\n",
      "dof: 1\n"
     ]
    }
   ],
   "source": [
    "from scipy import stats\n",
    "crosstab_retention_7_1 = pd.crosstab(df['retention_1'], df['retention_7'])\n",
    "print(crosstab_retention_7_1)\n",
    "chi2, p, dof, expected_frequencies  = stats.chi2_contingency(crosstab_retention_7_1)\n",
    "print(f'\\nexpected_frequencies:\\n{expected_frequencies}\\nchi_statistic: {chi2}\\np_value: {p}\\ndof: {dof}')"
   ]
  },
  {
   "cell_type": "code",
   "execution_count": 61,
   "id": "098fe7c6",
   "metadata": {
    "execution": {
     "iopub.execute_input": "2024-06-17T06:39:56.262224Z",
     "iopub.status.busy": "2024-06-17T06:39:56.261850Z",
     "iopub.status.idle": "2024-06-17T06:39:56.327915Z",
     "shell.execute_reply": "2024-06-17T06:39:56.326907Z"
    },
    "papermill": {
     "duration": 0.08136,
     "end_time": "2024-06-17T06:39:56.330414",
     "exception": false,
     "start_time": "2024-06-17T06:39:56.249054",
     "status": "completed"
    },
    "tags": []
   },
   "outputs": [
    {
     "name": "stdout",
     "output_type": "stream",
     "text": [
      "\n",
      "Descriptive Statistics with Skewness and Kurtosis by Version:\n",
      "           level_0 level_1  version                                        0\n",
      "0   sum_gamerounds   count  gate_30                                  44700.0\n",
      "1   sum_gamerounds   count  gate_40                                  45489.0\n",
      "2   sum_gamerounds    mean  gate_30                                52.456264\n",
      "3   sum_gamerounds    mean  gate_40                                51.298776\n",
      "4   sum_gamerounds     std  gate_30                               256.716423\n",
      "5   sum_gamerounds     std  gate_40                               103.294416\n",
      "6   sum_gamerounds     min  gate_30                                      0.0\n",
      "7   sum_gamerounds     min  gate_40                                      0.0\n",
      "8   sum_gamerounds     25%  gate_30                                      5.0\n",
      "9   sum_gamerounds     25%  gate_40                                      5.0\n",
      "10  sum_gamerounds     50%  gate_30                                     17.0\n",
      "11  sum_gamerounds     50%  gate_40                                     16.0\n",
      "12  sum_gamerounds     75%  gate_30                                     50.0\n",
      "13  sum_gamerounds     75%  gate_40                                     52.0\n",
      "14  sum_gamerounds     max  gate_30                                  49854.0\n",
      "15  sum_gamerounds     max  gate_40                                   2640.0\n",
      "16        skewness                   [163.70987062651201, 5.967287898713902]\n",
      "17        kurtosis                    [31688.38064342865, 63.10608364449687]\n"
     ]
    }
   ],
   "source": [
    "# Group by version and calculate descriptive statistics for numeric columns\n",
    "grouped_stats = df.groupby('version')[numeric_cols].describe()\n",
    "\n",
    "# Additional skewness and kurtosis by version\n",
    "skewness_by_version = df.groupby('version')[numeric_cols].apply(lambda x: x.skew()).unstack()\n",
    "kurtosis_by_version = df.groupby('version')[numeric_cols].apply(lambda x: x.kurtosis()).unstack()\n",
    "\n",
    "# Combine descriptive statistics with skewness and kurtosis\n",
    "grouped_stats = grouped_stats.unstack().T\n",
    "grouped_stats['skewness'] = skewness_by_version.T.values.flatten()\n",
    "grouped_stats['kurtosis'] = kurtosis_by_version.T.values.flatten()\n",
    "grouped_stats = grouped_stats.reset_index()\n",
    "\n",
    "print(\"\\nDescriptive Statistics with Skewness and Kurtosis by Version:\")\n",
    "print(grouped_stats)\n"
   ]
  },
  {
   "cell_type": "code",
   "execution_count": 62,
   "id": "06935afb",
   "metadata": {
    "execution": {
     "iopub.execute_input": "2024-06-17T06:39:56.355680Z",
     "iopub.status.busy": "2024-06-17T06:39:56.355325Z",
     "iopub.status.idle": "2024-06-17T06:40:00.043250Z",
     "shell.execute_reply": "2024-06-17T06:40:00.041984Z"
    },
    "papermill": {
     "duration": 3.704882,
     "end_time": "2024-06-17T06:40:00.046997",
     "exception": false,
     "start_time": "2024-06-17T06:39:56.342115",
     "status": "completed"
    },
    "tags": []
   },
   "outputs": [
    {
     "data": {
      "image/png": "[encoded data removed]",
      "text/plain": [
       "<Figure size 1800x2500 with 8 Axes>"
      ]
     },
     "metadata": {},
     "output_type": "display_data"
    }
   ],
   "source": [
    "import matplotlib.pyplot as plt\n",
    "import seaborn as sns\n",
    "\n",
    "# Set the style for seaborn\n",
    "sns.set_style(\"darkgrid\")\n",
    "\n",
    "fig, axes = plt.subplots(4, 2, figsize=(18, 25))\n",
    "fig.suptitle('Data Distributions and Analysis', fontsize=20)\n",
    "\n",
    "# Distribution of the 'version' column\n",
    "sns.barplot(x=version_counts.index, y=version_counts.values, ax=axes[0, 0], palette='viridis')\n",
    "axes[0, 0].text(0, version_counts.values[0] + 1, f'{version_counts.values[0]:.1f}%', ha='center', va='bottom')\n",
    "axes[0, 0].text(1, version_counts.values[1] + 1, f'{version_counts.values[1]:.1f}%', ha='center', va='bottom')\n",
    "axes[0, 0].set_title('Distribution of Version')\n",
    "axes[0, 0].set_ylabel('Percentage')\n",
    "axes[0, 0].set_xlabel('Version')\n",
    "\n",
    "# Distribution of 'retention_1'\n",
    "sns.barplot(x=retention_1_counts.index, y=retention_1_counts.values, ax=axes[0, 1], palette='viridis')\n",
    "axes[0, 1].text(0, retention_1_counts.values[0] + 1, f'{retention_1_counts.values[0]:.1f}%', ha='center', va='bottom')\n",
    "axes[0, 1].text(1, retention_1_counts.values[1] + 1, f'{retention_1_counts.values[1]:.1f}%', ha='center', va='bottom')\n",
    "axes[0, 1].set_title('Distribution of Retention 1 Day After Installation')\n",
    "axes[0, 1].set_ylabel('Percentage')\n",
    "axes[0, 1].set_xlabel('Retention 1')\n",
    "\n",
    "# Distribution of 'retention_7'\n",
    "sns.barplot(x=retention_7_counts.index, y=retention_7_counts.values, ax=axes[1, 0], palette='viridis')\n",
    "axes[1, 0].text(0, retention_7_counts.values[0] + 1, f'{retention_7_counts.values[0]:.1f}%', ha='center', va='bottom')\n",
    "axes[1, 0].text(1, retention_7_counts.values[1] + 1, f'{retention_7_counts.values[1]:.1f}%', ha='center', va='bottom')\n",
    "axes[1, 0].set_title('Distribution of Retention 7 Days After Installation')\n",
    "axes[1, 0].set_ylabel('Percentage')\n",
    "axes[1, 0].set_xlabel('Retention 7')\n",
    "\n",
    "# Distribution of 'sum_gamerounds' as a box plot\n",
    "sns.boxplot(ax=axes[1, 1], y=df['sum_gamerounds'], color='blue')\n",
    "axes[1, 1].set_title('Distribution of Sum of Game Rounds')\n",
    "axes[1, 1].set_ylabel('Sum of Game Rounds')\n",
    "axes[1, 1].set_yscale('log')\n",
    "\n",
    "# Analysis of sum_gamerounds by version\n",
    "sns.boxplot(ax=axes[2, 0], x='version', y='sum_gamerounds', data=df, palette='viridis')\n",
    "axes[2, 0].set_title('Sum of Game Rounds by Version')\n",
    "axes[2, 0].set_xlabel('Version')\n",
    "axes[2, 0].set_ylabel('Sum of Game Rounds')\n",
    "axes[2, 0].set_yscale('log')\n",
    "\n",
    "# Analysis of retention_1 by version\n",
    "retention_1_by_version = df.groupby(['version', 'retention_1']).size().reset_index(name='counts')\n",
    "retention_1_by_version['percentage'] = retention_1_by_version['counts'] / retention_1_by_version.groupby('version')['counts'].transform('sum') * 100\n",
    "sns.barplot(ax=axes[2, 1], x='version', y='percentage', hue='retention_1', data=retention_1_by_version, palette='viridis')\n",
    "for p in axes[2, 1].patches:\n",
    "    height = p.get_height()\n",
    "    axes[2, 1].text(p.get_x() + p.get_width() / 2., height + 1, f'{height:.1f}%', ha='center', va='bottom')\n",
    "axes[2, 1].set_title('Retention 1 Day After Installation by Version')\n",
    "axes[2, 1].set_xlabel('Version')\n",
    "axes[2, 1].set_ylabel('Retention 1 Rate (%)')\n",
    "\n",
    "# Analysis of retention_7 by version\n",
    "retention_7_by_version = df.groupby(['version', 'retention_7']).size().reset_index(name='counts')\n",
    "retention_7_by_version['percentage'] = retention_7_by_version['counts'] / retention_7_by_version.groupby('version')['counts'].transform('sum') * 100\n",
    "sns.barplot(ax=axes[3, 0], x='version', y='percentage', hue='retention_7', data=retention_7_by_version, palette='viridis')\n",
    "for p in axes[3, 0].patches:\n",
    "    height = p.get_height()\n",
    "    axes[3, 0].text(p.get_x() + p.get_width() / 2., height + 1, f'{height:.1f}%', ha='center', va='bottom')\n",
    "axes[3, 0].set_title('Retention 7 Days After Installation by Version')\n",
    "axes[3, 0].set_xlabel('Version')\n",
    "axes[3, 0].set_ylabel('Retention 7 Rate (%)')\n",
    "\n",
    "\n",
    "# Adjust layout\n",
    "plt.tight_layout(rect=[0, 0.03, 1, 0.95])\n",
    "plt.show()\n"
   ]
  },
  {
   "cell_type": "markdown",
   "id": "bcfa26ee",
   "metadata": {
    "papermill": {
     "duration": 0.014591,
     "end_time": "2024-06-17T06:40:00.077320",
     "exception": false,
     "start_time": "2024-06-17T06:40:00.062729",
     "status": "completed"
    },
    "tags": []
   },
   "source": [
    "## Dataset Description and Findings\n",
    "\n",
    "The dataset used in this notebook is `Cookie_Cats_cleaned_v01.csv`. It contains information on user behavior and retention in the mobile game Cookie Cats, before and after an intervention. Below is a detailed description of each column, including the data types and a brief explanation.\n",
    "\n",
    "## Columns:\n",
    "\n",
    "1. **version** (object)\n",
    "   - Indicates whether the user experienced the control or treatment version of the game.\n",
    "   - Values: `gate_30` (control), `gate_40` (treatment)\n",
    "   - **Distribution:**\n",
    "     - gate_30 (Control): 49.56%\n",
    "     - gate_40 (Treatment): 50.44%\n",
    "   - The distribution of the `version` column is nearly equal, making it suitable for A/B testing as it ensures a balanced comparison between the control and treatment groups.\n",
    "\n",
    "\n",
    "2. **sum_gamerounds** (int64)\n",
    "   - Total number of game rounds played by the user.\n",
    "   - **Descriptive Statistics:**\n",
    "     - Mean: 51.87\n",
    "     - Standard Deviation: 195.05\n",
    "     - Min: 0\n",
    "     - 25th Percentile: 5\n",
    "     - Median: 16\n",
    "     - 75th Percentile: 51\n",
    "     - Max: 49,854\n",
    "     - Kurtosis: 47,130.37\n",
    "     - Skewness: 185.44\n",
    "   - **Analysis Insight:**\n",
    "     - The `sum_gamerounds` column is highly skewed and has a high kurtosis value, indicating that while most users play a small number of rounds, there are outliers who play a significantly larger number of rounds. This skewness and the presence of outliers can impact the analysis and should be taken into consideration during hypothesis testing.\n",
    "\n",
    "\n",
    "3. **retention_1** (bool)\n",
    "   - Indicates whether the user returned to play the game one day after installation.\n",
    "   - Values: `True`, `False`\n",
    "   - **Distribution:**\n",
    "     - False: 55.48%\n",
    "     - True: 44.52%\n",
    "   - **Analysis Insight:**\n",
    "     - The `retention_1` column shows that a smaller proportion of users return to play the game one day after installation.\n",
    "\n",
    "\n",
    "4. **retention_7** (bool)\n",
    "   - Indicates whether the user returned to play the game seven days after installation.\n",
    "   - Values: `True`, `False`\n",
    "   - **Distribution:**\n",
    "     - False: 81.39%\n",
    "     - True: 18.61%\n",
    "   - **Analysis Insight:**\n",
    "     - The `retention_7` column shows that even fewer users return to play the game seven days after installation.\n",
    "\n",
    "\n",
    "## Dataset Overview:\n",
    "\n",
    "- **Total Entries:** 90,189\n"
   ]
  },
  {
   "cell_type": "markdown",
   "id": "215b0556",
   "metadata": {
    "papermill": {
     "duration": 0.015595,
     "end_time": "2024-06-17T06:40:00.108040",
     "exception": false,
     "start_time": "2024-06-17T06:40:00.092445",
     "status": "completed"
    },
    "tags": []
   },
   "source": [
    "# 1.2 Define the Problem\n",
    "\n",
    "Clearly defining the problem is a crucial step in any A/B test. The objective is to compare two groups to determine if there is a significant difference between them after an intervention or treatment. In our case, we have a control group and a treatment group:\n",
    "\n",
    "- **Control Group**: The group that does not receive the treatment or intervention.\n",
    "- **Treatment Group**: The group that receives the treatment or intervention.\n",
    "\n",
    "For this A/B test, we aim to answer the following three questions, two of which pertain to binary outcomes and one to a continuous outcome:\n",
    "\n",
    "### Question 1: Has the average number of game sessions increased by 5 sessions?\n",
    "\n",
    "#### **Objective**: To determine if the treatment has increased the average number of game sessions by 5 sessions.\n",
    "\n",
    "- **Null Hypothesis (H0)**: The average number of game sessions in the treatment group has not increased by 5 sessions compared to the control group.\n",
    "\n",
    "- **Alternative Hypothesis (H1)**: The average number of game sessions in the treatment group has increased by 5 sessions compared to the control group.\n",
    "\n",
    "### Question 2: Has player retention increased by 2% after 1 day?\n",
    "\n",
    "#### **Objective**: To determine if the treatment has increased player retention by 2% one day after installation.\n",
    "\n",
    "- **Null Hypothesis (H0)**: The player retention rate one day after installation in the treatment group has not increased by 2% compared to the control group.\n",
    "\n",
    "- **Alternative Hypothesis (H1)**: The player retention rate one day after installation in the treatment group has increased by 2% compared to the control group.\n",
    "\n",
    "### Question 3: Has player retention increased by 5% after 7 days?\n",
    "\n",
    "#### **Objective**: To determine if the treatment has increased player retention by 5% seven days after installation.\n",
    "\n",
    "- **Null Hypothesis (H0)**: The player retention rate seven days after installation in the treatment group has not increased by 5% compared to the control group.\n",
    "\n",
    "- **Alternative Hypothesis (H1)**: The player retention rate seven days after installation in the treatment group has increased by 5% compared to the control group.\n",
    "\n"
   ]
  },
  {
   "cell_type": "markdown",
   "id": "cac039a2",
   "metadata": {
    "papermill": {
     "duration": 0.014521,
     "end_time": "2024-06-17T06:40:00.137326",
     "exception": false,
     "start_time": "2024-06-17T06:40:00.122805",
     "status": "completed"
    },
    "tags": []
   },
   "source": [
    "# 2. Preprocessing Steps\n",
    "\n",
    "Based on the findings from the EDA and the defined problem, preprocess the data to ensure it's ready for testing.\n",
    "\n",
    "### Preprocessing Steps:\n",
    "1. **Handling Missing Values**: \n",
    "   - Remove or impute missing values as identified in the EDA.\n",
    "   - Ensuring there are no missing values is crucial for maintaining the integrity of the dataset and avoiding biases in the analysis.\n",
    "\n",
    "\n",
    "2. **Outlier Detection**: \n",
    "   - Identify and handle outliers that may skew the results.\n",
    "   - Outliers can significantly affect the results of statistical tests and may lead to incorrect conclusions. \n",
    "\n",
    "\n",
    "3. **Data Transformation**: \n",
    "   - Normalize or standardize data if necessary, especially for continuous variables.\n",
    "   - This step is important to ensure that different scales of variables do not skew the analysis.\n",
    "\n",
    "\n",
    "4. **Feature Engineering**: \n",
    "   - Create new features if needed to better capture the characteristics of the data.\n",
    "   - This step involves adding new variables that can help in the analysis, such as interaction terms or derived metrics.\n",
    "\n",
    "\n",
    "## Preprocessing in Our Case\n",
    "\n",
    "In our case, the dataset has already been preprocessed and does not contain any missing values. Our focus will be on handling outliers, as we have identified some during the EDA. Data transformation and feature engineering are not necessary because we are not building a predictive model. Instead, we are conducting statistical tests to compare the control and treatment groups.\n",
    "\n",
    "By ensuring the data is properly preprocessed, we can proceed with the A/B testing confidently, knowing that the dataset is clean and suitable for accurate and reliable analysis.\n",
    "\n",
    "For more detailed information on data quality and data transformation, refer to the following guides:\n",
    "- [Complete Guide to Data Quality A to Z](https://www.kaggle.com/code/matinmahmoudi/complete-guide-to-data-quality-a-to-z)\n",
    "- [Complete Guide to Data Transformation A to Z](https://www.kaggle.com/code/matinmahmoudi/complete-guide-to-data-transformation-a-to-z)"
   ]
  },
  {
   "cell_type": "markdown",
   "id": "1e499ec7",
   "metadata": {
    "papermill": {
     "duration": 0.01969,
     "end_time": "2024-06-17T06:40:00.174862",
     "exception": false,
     "start_time": "2024-06-17T06:40:00.155172",
     "status": "completed"
    },
    "tags": []
   },
   "source": [
    "## Removing Outliers Using the IQR Method\n",
    "\n",
    "To ensure our analysis is not skewed by extreme values, we will use the Interquartile Range (IQR) method to remove outliers from our dataset. This method involves the following steps for each version:\n",
    "\n",
    "1. **Calculate the IQR for each version.**\n",
    "2. **Determine the bounds for outliers.**\n",
    "3. **Filter out the outliers from the dataset.**\n"
   ]
  },
  {
   "cell_type": "markdown",
   "id": "ac20f52f",
   "metadata": {
    "papermill": {
     "duration": 0.022417,
     "end_time": "2024-06-17T06:40:00.216236",
     "exception": false,
     "start_time": "2024-06-17T06:40:00.193819",
     "status": "completed"
    },
    "tags": []
   },
   "source": [
    "To ensure unbiased results in A/B testing, preprocessing steps like outlier handling, normalization, and missing value imputation should be performed **after** splitting the data. This practice maintains the independence of control and treatment groups and ensures fair and tailored processing for each group.\n"
   ]
  },
  {
   "cell_type": "code",
   "execution_count": 80,
   "id": "04b22591",
   "metadata": {
    "collapsed": true,
    "execution": {
     "iopub.execute_input": "2024-06-17T06:40:00.248872Z",
     "iopub.status.busy": "2024-06-17T06:40:00.247720Z",
     "iopub.status.idle": "2024-06-17T06:40:00.334046Z",
     "shell.execute_reply": "2024-06-17T06:40:00.332927Z"
    },
    "papermill": {
     "duration": 0.105043,
     "end_time": "2024-06-17T06:40:00.336283",
     "exception": false,
     "start_time": "2024-06-17T06:40:00.231240",
     "status": "completed"
    },
    "tags": []
   },
   "outputs": [
    {
     "name": "stdout",
     "output_type": "stream",
     "text": [
      "Original control group shape: (44700, 4)\n",
      "Cleaned control group shape: (39493, 4)\n",
      "Original treatment group shape: (45489, 4)\n",
      "Cleaned treatment group shape: (40471, 4)\n"
     ]
    },
    {
     "data": {
      "text/plain": [
       "array([[<AxesSubplot:title={'center':'sum_gamerounds'}>]], dtype=object)"
      ]
     },
     "execution_count": 80,
     "metadata": {},
     "output_type": "execute_result"
    },
    {
     "data": {
      "image/png": "[encoded data removed]",
      "text/plain": [
       "<Figure size 640x480 with 1 Axes>"
      ]
     },
     "metadata": {},
     "output_type": "display_data"
    },
    {
     "data": {
      "image/png": "[encoded data removed]",
      "text/plain": [
       "<Figure size 640x480 with 1 Axes>"
      ]
     },
     "metadata": {},
     "output_type": "display_data"
    },
    {
     "data": {
      "image/png": "[encoded data removed]",
      "text/plain": [
       "<Figure size 640x480 with 1 Axes>"
      ]
     },
     "metadata": {},
     "output_type": "display_data"
    },
    {
     "data": {
      "image/png": "[encoded data removed]",
      "text/plain": [
       "<Figure size 640x480 with 1 Axes>"
      ]
     },
     "metadata": {},
     "output_type": "display_data"
    }
   ],
   "source": [
    "# Separate control and treatment groups\n",
    "control_group = df[df['version'] == 'gate_30']\n",
    "treatment_group = df[df['version'] == 'gate_40']\n",
    "control_group.hist()\n",
    "treatment_group.hist()\n",
    "# Define a function to remove outliers using the IQR method\n",
    "def remove_outliers_iqr(data, column):\n",
    "    Q1 = data[column].quantile(0.25)\n",
    "    Q3 = data[column].quantile(0.75)\n",
    "    IQR = Q3 - Q1\n",
    "    lower_bound = Q1 - 1.5 * IQR\n",
    "    upper_bound = Q3 + 1.5 * IQR\n",
    "    \n",
    "    # Filter the data\n",
    "    filtered_data = data[(data[column] >= lower_bound) & (data[column] <= upper_bound)]\n",
    "    return filtered_data\n",
    "\n",
    "# Remove outliers for the 'sum_gamerounds' column in control and treatment groups\n",
    "control_group = remove_outliers_iqr(control_group, 'sum_gamerounds')\n",
    "treatment_group = remove_outliers_iqr(treatment_group, 'sum_gamerounds')\n",
    "\n",
    "# Check the shape of the cleaned data\n",
    "print(f\"Original control group shape: {df[df['version'] == 'gate_30'].shape}\")\n",
    "print(f\"Cleaned control group shape: {control_group.shape}\")\n",
    "print(f\"Original treatment group shape: {df[df['version'] == 'gate_40'].shape}\")\n",
    "print(f\"Cleaned treatment group shape: {treatment_group.shape}\")\n",
    "control_group.hist()\n",
    "treatment_group.hist()"
   ]
  },
  {
   "cell_type": "code",
   "execution_count": 81,
   "id": "deedc989",
   "metadata": {
    "execution": {
     "iopub.execute_input": "2024-06-17T06:40:00.367873Z",
     "iopub.status.busy": "2024-06-17T06:40:00.367407Z",
     "iopub.status.idle": "2024-06-17T06:40:00.383114Z",
     "shell.execute_reply": "2024-06-17T06:40:00.381650Z"
    },
    "papermill": {
     "duration": 0.034561,
     "end_time": "2024-06-17T06:40:00.385579",
     "exception": false,
     "start_time": "2024-06-17T06:40:00.351018",
     "status": "completed"
    },
    "tags": []
   },
   "outputs": [
    {
     "name": "stdout",
     "output_type": "stream",
     "text": [
      "Shape of the concatenated dataframe: (79964, 4)\n",
      "         version  sum_gamerounds  retention_1  retention_7\n",
      "userid                                                    \n",
      "5229081  gate_30               9        False        False\n",
      "534298   gate_30               9        False        False\n",
      "370381   gate_40               0        False        False\n",
      "7983850  gate_40               2        False        False\n",
      "471034   gate_30              14         True        False\n"
     ]
    }
   ],
   "source": [
    "# Concatenate the cleaned control and treatment groups\n",
    "df = pd.concat([control_group, treatment_group])\n",
    "\n",
    "# Verify the concatenation by checking the new shape and by sampling the data\n",
    "print(f\"Shape of the concatenated dataframe: {df.shape}\")\n",
    "print(df.sample(5))  # Display a random sample of 5 rows to verify"
   ]
  },
  {
   "cell_type": "code",
   "execution_count": 82,
   "id": "5c625de1",
   "metadata": {
    "execution": {
     "iopub.execute_input": "2024-06-17T06:40:00.418580Z",
     "iopub.status.busy": "2024-06-17T06:40:00.418200Z",
     "iopub.status.idle": "2024-06-17T06:40:00.493629Z",
     "shell.execute_reply": "2024-06-17T06:40:00.491632Z"
    },
    "papermill": {
     "duration": 0.095525,
     "end_time": "2024-06-17T06:40:00.496755",
     "exception": false,
     "start_time": "2024-06-17T06:40:00.401230",
     "status": "completed"
    },
    "tags": []
   },
   "outputs": [
    {
     "name": "stdout",
     "output_type": "stream",
     "text": [
      "\n",
      "Descriptive Statistics with Skewness and Kurtosis by Version:\n",
      "           level_0 level_1  version                                         0\n",
      "0   sum_gamerounds   count  gate_30                                   39493.0\n",
      "1   sum_gamerounds   count  gate_40                                   40471.0\n",
      "2   sum_gamerounds    mean  gate_30                                 23.596536\n",
      "3   sum_gamerounds    mean  gate_40                                 24.245979\n",
      "4   sum_gamerounds     std  gate_30                                 26.584511\n",
      "5   sum_gamerounds     std  gate_40                                  28.17279\n",
      "6   sum_gamerounds     min  gate_30                                       0.0\n",
      "7   sum_gamerounds     min  gate_40                                       0.0\n",
      "8   sum_gamerounds     25%  gate_30                                       4.0\n",
      "9   sum_gamerounds     25%  gate_40                                       4.0\n",
      "10  sum_gamerounds     50%  gate_30                                      13.0\n",
      "11  sum_gamerounds     50%  gate_40                                      13.0\n",
      "12  sum_gamerounds     75%  gate_30                                      35.0\n",
      "13  sum_gamerounds     75%  gate_40                                      34.0\n",
      "14  sum_gamerounds     max  gate_30                                     117.0\n",
      "15  sum_gamerounds     max  gate_40                                     122.0\n",
      "16        skewness                    [1.5264981182659405, 1.558962382928122]\n",
      "17        kurtosis                   [1.7017429836991131, 1.7129695451814868]\n"
     ]
    }
   ],
   "source": [
    "# Group by version and calculate descriptive statistics for numeric columns\n",
    "grouped_stats = df.groupby('version')[numeric_cols].describe()\n",
    "\n",
    "# Additional skewness and kurtosis by version\n",
    "skewness_by_version = df.groupby('version')[numeric_cols].apply(lambda x: x.skew()).unstack()\n",
    "kurtosis_by_version = df.groupby('version')[numeric_cols].apply(lambda x: x.kurtosis()).unstack()\n",
    "\n",
    "# Combine descriptive statistics with skewness and kurtosis\n",
    "grouped_stats = grouped_stats.unstack().T\n",
    "grouped_stats['skewness'] = skewness_by_version.T.values.flatten()\n",
    "grouped_stats['kurtosis'] = kurtosis_by_version.T.values.flatten()\n",
    "grouped_stats = grouped_stats.reset_index()\n",
    "\n",
    "print(\"\\nDescriptive Statistics with Skewness and Kurtosis by Version:\")\n",
    "print(grouped_stats)"
   ]
  },
  {
   "cell_type": "markdown",
   "id": "d7b9dcca",
   "metadata": {
    "papermill": {
     "duration": 0.016745,
     "end_time": "2024-06-17T06:40:00.530892",
     "exception": false,
     "start_time": "2024-06-17T06:40:00.514147",
     "status": "completed"
    },
    "tags": []
   },
   "source": [
    "# 3. Set the Probability of Type I and Type II Errors\n",
    "\n",
    "In hypothesis testing, it is crucial to set the acceptable probabilities for Type I and Type II errors to ensure the robustness of our test results. Here’s a detailed explanation based on our dataset:\n",
    "\n",
    "### Type I Error (Alpha)\n",
    "\n",
    "**Definition**: Type I error, denoted by $\\alpha$, is the probability of rejecting the null hypothesis when it is actually true. In other words, it represents the risk of concluding that there is an effect or difference when, in reality, there is none.\n",
    "\n",
    "**Common Value**: The commonly accepted value for $\\alpha$ is 0.05 (5%). This means that there is a 5% risk of committing a Type I error.\n",
    "\n",
    "**Implication in Our Dataset**: For our A/B tests:\n",
    "- **Question 1**: If we incorrectly conclude that the average number of game sessions has increased by 5 sessions when it has not, we commit a Type I error.\n",
    "- **Question 2**: If we incorrectly conclude that player retention has increased by 2% after 1 day when it has not, we commit a Type I error.\n",
    "- **Question 3**: If we incorrectly conclude that player retention has increased by 5% after 7 days when it has not, we commit a Type I error.\n",
    "\n",
    "### Type II Error (Beta)\n",
    "\n",
    "**Definition**: Type II error, denoted by $\\beta$, is the probability of failing to reject the null hypothesis when it is actually false. In other words, it represents the risk of concluding that there is no effect or difference when, in reality, there is one.\n",
    "\n",
    "**Common Value**: The commonly accepted value for $\\beta$ is 0.20 (20%). This means that there is a 20% risk of committing a Type II error.\n",
    "\n",
    "**Power of the Test**: The power of a test is defined as $1 - \\beta$. A common power value is 0.80 (80%), indicating an 80% chance of correctly rejecting the null hypothesis when it is false.\n",
    "\n",
    "**Implication in Our Dataset**: For our A/B tests:\n",
    "- **Question 1**: If we fail to detect an actual increase of 5 sessions in the average number of game sessions, we commit a Type II error.\n",
    "- **Question 2**: If we fail to detect an actual increase of 2% in player retention after 1 day, we commit a Type II error.\n",
    "- **Question 3**: If we fail to detect an actual increase of 5% in player retention after 7 days, we commit a Type II error.\n",
    "\n",
    "### Setting Alpha and Beta for Our A/B Tests\n",
    "\n",
    "Based on standard practice and the need for robust conclusions, we will use the following values for our tests:\n",
    "\n",
    "- **Alpha ($\\alpha$)**: 0.05 (5%)\n",
    "- **Beta ($\\beta$)**: 0.20 (20%)\n",
    "- **Power**: 0.80 (80%)\n",
    "\n",
    "These values strike a balance between minimizing the risk of Type I and Type II errors, ensuring that our test results are both reliable and statistically significant.\n"
   ]
  },
  {
   "cell_type": "code",
   "execution_count": 83,
   "id": "71e9951f",
   "metadata": {
    "execution": {
     "iopub.execute_input": "2024-06-17T06:40:00.566806Z",
     "iopub.status.busy": "2024-06-17T06:40:00.566394Z",
     "iopub.status.idle": "2024-06-17T06:40:00.572345Z",
     "shell.execute_reply": "2024-06-17T06:40:00.571028Z"
    },
    "papermill": {
     "duration": 0.024932,
     "end_time": "2024-06-17T06:40:00.574827",
     "exception": false,
     "start_time": "2024-06-17T06:40:00.549895",
     "status": "completed"
    },
    "tags": []
   },
   "outputs": [],
   "source": [
    "import scipy.stats as stats\n",
    "\n",
    "# Define alpha, beta, and power\n",
    "alpha = 0.05\n",
    "beta = 0.20\n",
    "power = 1 - beta"
   ]
  },
  {
   "cell_type": "markdown",
   "id": "f08954e5",
   "metadata": {
    "papermill": {
     "duration": 0.014622,
     "end_time": "2024-06-17T06:40:00.604598",
     "exception": false,
     "start_time": "2024-06-17T06:40:00.589976",
     "status": "completed"
    },
    "tags": []
   },
   "source": [
    "# 4.1 Calculate Sample Size and Choose Samples for Binary A/B Test\n",
    "\n",
    "To calculate the sample size for a binary A/B test, we need to determine the proportions of success in both the control and treatment groups. The formula for calculating the required sample size for each group in a binary A/B test is:\n",
    "\n",
    "$$\n",
    "n = \\left( \\frac{Z_{\\alpha/2} + Z_{\\beta}}{p_1 - p_2} \\right)^2 \\left( p_1(1 - p_1) + p_2(1 - p_2) \\right)\n",
    "$$\n",
    "\n",
    "Where:\n",
    "- $Z_{\\alpha/2}$ is the Z-score for the chosen significance level.\n",
    "- $Z_{\\beta}$ is the Z-score for the chosen power.\n",
    "- $p_1$ is the proportion of success in the control group.\n",
    "- $p_2$ is the proportion of success in the treatment group.\n",
    "\n",
    "### Steps:\n",
    "1. Define the baseline proportions ($p_1$) for retention rates in the control group.\n",
    "2. Define the expected proportions ($p_2$) for retention rates in the treatment group, including the effect size.\n",
    "3. Use the `statsmodels` library to calculate the required sample size.\n",
    "\n"
   ]
  },
  {
   "cell_type": "markdown",
   "id": "7806efe4",
   "metadata": {
    "papermill": {
     "duration": 0.014708,
     "end_time": "2024-06-17T06:40:00.634240",
     "exception": false,
     "start_time": "2024-06-17T06:40:00.619532",
     "status": "completed"
    },
    "tags": []
   },
   "source": [
    "### Method 1 ,First implementation approach:"
   ]
  },
  {
   "cell_type": "code",
   "execution_count": 84,
   "id": "4ea34cc8",
   "metadata": {
    "execution": {
     "iopub.execute_input": "2024-06-17T06:40:00.667428Z",
     "iopub.status.busy": "2024-06-17T06:40:00.666133Z",
     "iopub.status.idle": "2024-06-17T06:40:01.119667Z",
     "shell.execute_reply": "2024-06-17T06:40:01.118446Z"
    },
    "papermill": {
     "duration": 0.47318,
     "end_time": "2024-06-17T06:40:01.122531",
     "exception": false,
     "start_time": "2024-06-17T06:40:00.649351",
     "status": "completed"
    },
    "tags": []
   },
   "outputs": [
    {
     "data": {
      "text/plain": [
       "{'Required sample size for retention rate after 1 day test': 9396,\n",
       " 'Required sample size for retention rate after 7 days test': 757}"
      ]
     },
     "execution_count": 84,
     "metadata": {},
     "output_type": "execute_result"
    }
   ],
   "source": [
    "import statsmodels.stats.api as sms\n",
    "\n",
    "# Recompute crosstabs for retention rates by version\n",
    "crosstab_retention_1 = pd.crosstab(df['version'], df['retention_1'], normalize='index')\n",
    "crosstab_retention_7 = pd.crosstab(df['version'], df['retention_7'], normalize='index')\n",
    "\n",
    "# Extract baseline proportions from crosstab results\n",
    "p1_retention_1 = crosstab_retention_1.loc['gate_30', True]\n",
    "p1_retention_7 = crosstab_retention_7.loc['gate_30', True]\n",
    "\n",
    "# Define expected improvements\n",
    "p2_retention_1 = p1_retention_1 + 0.02  # 2% increase for retention after 1 day\n",
    "p2_retention_7 = p1_retention_7 + 0.05  # 5% increase for retention after 7 days\n",
    "\n",
    "# Define alpha, beta, and calculate power\n",
    "alpha = 0.05\n",
    "beta = 0.20\n",
    "power = 1 - beta\n",
    "\n",
    "# Calculate effect sizes and required sample sizes\n",
    "effect_size_retention_1 = sms.proportion_effectsize(p1_retention_1, p2_retention_1)\n",
    "n_retention_1 = sms.NormalIndPower().solve_power(effect_size=effect_size_retention_1, power=power, alpha=alpha, ratio=1)\n",
    "\n",
    "effect_size_retention_7 = sms.proportion_effectsize(p1_retention_7, p2_retention_7)\n",
    "n_retention_7 = sms.NormalIndPower().solve_power(effect_size=effect_size_retention_7, power=power, alpha=alpha, ratio=1)\n",
    "\n",
    "required_sample_sizes = {\n",
    "    \"Required sample size for retention rate after 1 day test\": int(n_retention_1),\n",
    "    \"Required sample size for retention rate after 7 days test\": int(n_retention_7)\n",
    "}\n",
    "\n",
    "required_sample_sizes\n"
   ]
  },
  {
   "cell_type": "markdown",
   "id": "1a7fc442",
   "metadata": {
    "papermill": {
     "duration": 0.015291,
     "end_time": "2024-06-17T06:40:01.153185",
     "exception": false,
     "start_time": "2024-06-17T06:40:01.137894",
     "status": "completed"
    },
    "tags": []
   },
   "source": [
    "### Method 1 ,Second implementation approach:"
   ]
  },
  {
   "cell_type": "code",
   "execution_count": 16,
   "id": "4c957cb8",
   "metadata": {
    "execution": {
     "iopub.execute_input": "2024-06-17T06:40:01.187091Z",
     "iopub.status.busy": "2024-06-17T06:40:01.185867Z",
     "iopub.status.idle": "2024-06-17T06:40:01.218919Z",
     "shell.execute_reply": "2024-06-17T06:40:01.216997Z"
    },
    "papermill": {
     "duration": 0.052973,
     "end_time": "2024-06-17T06:40:01.221698",
     "exception": false,
     "start_time": "2024-06-17T06:40:01.168725",
     "status": "completed"
    },
    "tags": []
   },
   "outputs": [
    {
     "name": "stdout",
     "output_type": "stream",
     "text": [
      "Required sample size for retention rate after 1 day test: 9396\n",
      "Required sample size for retention rate after 7 days test: 757\n"
     ]
    }
   ],
   "source": [
    "import statsmodels.stats.api as sms\n",
    "\n",
    "# Define alpha, beta, and power\n",
    "alpha = 0.05\n",
    "beta = 0.20\n",
    "power = 1 - beta\n",
    "\n",
    "# Baseline and expected proportions for retention rates\n",
    "p1_retention_1 = control_group['retention_1'].mean()\n",
    "p2_retention_1 = p1_retention_1 + 0.02  # 2% increase for retention after 1 day\n",
    "\n",
    "p1_retention_7 = control_group['retention_7'].mean()\n",
    "p2_retention_7 = p1_retention_7 + 0.05  # 5% increase for retention after 7 days\n",
    "\n",
    "# Calculate sample sizes using statsmodels\n",
    "effect_size_retention_1 = sms.proportion_effectsize(p1_retention_1, p2_retention_1)\n",
    "n_retention_1 = sms.NormalIndPower().solve_power(effect_size=effect_size_retention_1, power=power, alpha=alpha, ratio=1)\n",
    "\n",
    "effect_size_retention_7 = sms.proportion_effectsize(p1_retention_7, p2_retention_7)\n",
    "n_retention_7 = sms.NormalIndPower().solve_power(effect_size=effect_size_retention_7, power=power, alpha=alpha, ratio=1)\n",
    "\n",
    "print(f\"Required sample size for retention rate after 1 day test: {int(n_retention_1)}\")\n",
    "print(f\"Required sample size for retention rate after 7 days test: {int(n_retention_7)}\")\n"
   ]
  },
  {
   "cell_type": "markdown",
   "id": "4199fb02",
   "metadata": {
    "papermill": {
     "duration": 0.015778,
     "end_time": "2024-06-17T06:40:01.310686",
     "exception": false,
     "start_time": "2024-06-17T06:40:01.294908",
     "status": "completed"
    },
    "tags": []
   },
   "source": [
    "### Method 2 ,Implement from scratch:"
   ]
  },
  {
   "cell_type": "code",
   "execution_count": 91,
   "id": "1f3df18a",
   "metadata": {
    "execution": {
     "iopub.execute_input": "2024-06-17T06:40:01.343921Z",
     "iopub.status.busy": "2024-06-17T06:40:01.343494Z",
     "iopub.status.idle": "2024-06-17T06:40:01.355267Z",
     "shell.execute_reply": "2024-06-17T06:40:01.353961Z"
    },
    "papermill": {
     "duration": 0.031075,
     "end_time": "2024-06-17T06:40:01.357690",
     "exception": false,
     "start_time": "2024-06-17T06:40:01.326615",
     "status": "completed"
    },
    "tags": []
   },
   "outputs": [
    {
     "name": "stdout",
     "output_type": "stream",
     "text": [
      "Required sample size for retention rate after 1 day test: 9397\n",
      "Required sample size for retention rate after 7 days test: 761\n"
     ]
    }
   ],
   "source": [
    "import scipy.stats as stats\n",
    "\n",
    "# Define alpha, beta, and power\n",
    "alpha = 0.05\n",
    "beta = 0.20\n",
    "power = 1 - beta\n",
    "\n",
    "# Z-scores for the significance level (alpha) and power\n",
    "Z_alpha = stats.norm.ppf(1 - alpha / 2)\n",
    "Z_beta = stats.norm.ppf(power)\n",
    "\n",
    "# Baseline and expected proportions for retention rates\n",
    "p1_retention_1 = control_group['retention_1'].mean()\n",
    "p2_retention_1 = p1_retention_1 + 0.02  # 2% increase for retention after 1 day\n",
    "\n",
    "p1_retention_7 = control_group['retention_7'].mean()\n",
    "p2_retention_7 = p1_retention_7 + 0.05  # 5% increase for retention after 7 days\n",
    "\n",
    "# Function to calculate sample size for binary outcome\n",
    "def calculate_sample_size_binary(p1, p2, Z_alpha, Z_beta):\n",
    "    pooled_prob = (p1 + p2) / 2\n",
    "    return int(((Z_alpha * (2 * pooled_prob * (1 - pooled_prob)) ** 0.5 + Z_beta * (p1 * (1 - p1) + p2 * (1 - p2)) ** 0.5) / (p1 - p2)) ** 2)\n",
    "\n",
    "# Calculate sample sizes\n",
    "n_retention_1 = calculate_sample_size_binary(p1_retention_1, p2_retention_1, Z_alpha, Z_beta)\n",
    "n_retention_7 = calculate_sample_size_binary(p1_retention_7, p2_retention_7, Z_alpha, Z_beta)\n",
    "\n",
    "print(f\"Required sample size for retention rate after 1 day test: {n_retention_1}\")\n",
    "print(f\"Required sample size for retention rate after 7 days test: {n_retention_7}\")\n"
   ]
  },
  {
   "cell_type": "markdown",
   "id": "4f183ff8",
   "metadata": {
    "papermill": {
     "duration": 0.015215,
     "end_time": "2024-06-17T06:40:01.388484",
     "exception": false,
     "start_time": "2024-06-17T06:40:01.373269",
     "status": "completed"
    },
    "tags": []
   },
   "source": [
    "# 4.2 Calculate Sample Size and Choose Samples for Continuous A/B Test\n",
    "\n",
    "To calculate the sample size for a continuous A/B test, we need to know the standard deviation of the population and the expected effect size. The formula for calculating the required sample size for each group in a continuous A/B test is:\n",
    "\n",
    "$$\n",
    "n = \\left( \\frac{Z_{\\alpha/2} + Z_{\\beta}}{\\mu_1 - \\mu_2} \\right)^2 \\cdot 2\\sigma^2\n",
    "$$\n",
    "\n",
    "Where:\n",
    "- $Z_{\\alpha/2}$ is the Z-score for the chosen significance level.\n",
    "- $Z_{\\beta}$ is the Z-score for the chosen power.\n",
    "- $\\mu_1$ and $\\mu_2$ are the means of the control and treatment groups, respectively.\n",
    "- $\\sigma$ is the standard deviation of the population.\n",
    "\n",
    "### Steps:\n",
    "1. Define the expected effect size ($\\mu_1 - \\mu_2$) for the average number of game sessions.\n",
    "2. Calculate the standard deviation ($\\sigma$) of the `sum_gamerounds` column.\n",
    "3. Use the `statsmodels` library to calculate the required sample size.\n",
    "\n",
    "Here's the Python code to perform these calculations:\n"
   ]
  },
  {
   "cell_type": "markdown",
   "id": "1d72b2f8",
   "metadata": {
    "papermill": {
     "duration": 0.015406,
     "end_time": "2024-06-17T06:40:01.419229",
     "exception": false,
     "start_time": "2024-06-17T06:40:01.403823",
     "status": "completed"
    },
    "tags": []
   },
   "source": [
    "### Method 1:"
   ]
  },
  {
   "cell_type": "code",
   "execution_count": 92,
   "id": "c187bace",
   "metadata": {
    "execution": {
     "iopub.execute_input": "2024-06-17T06:40:01.453033Z",
     "iopub.status.busy": "2024-06-17T06:40:01.452597Z",
     "iopub.status.idle": "2024-06-17T06:40:01.468140Z",
     "shell.execute_reply": "2024-06-17T06:40:01.466718Z"
    },
    "papermill": {
     "duration": 0.035,
     "end_time": "2024-06-17T06:40:01.470654",
     "exception": false,
     "start_time": "2024-06-17T06:40:01.435654",
     "status": "completed"
    },
    "tags": []
   },
   "outputs": [
    {
     "name": "stdout",
     "output_type": "stream",
     "text": [
      "Required sample size for average number of game sessions test: 471\n"
     ]
    }
   ],
   "source": [
    "import numpy as np\n",
    "\n",
    "# Define effect size for the continuous outcome\n",
    "effect_size_sessions = 5  # Difference in average number of sessions\n",
    "\n",
    "# Calculate the standard deviation of the sum_gamerounds column\n",
    "std_dev_sessions = pd.concat([control_group['sum_gamerounds'],treatment_group['sum_gamerounds']]).std()\n",
    "\n",
    "# Calculate the required sample size for the continuous outcome using statsmodels\n",
    "n_sessions = sms.NormalIndPower().solve_power(effect_size=effect_size_sessions / std_dev_sessions, power=power, alpha=alpha, ratio=1)\n",
    "\n",
    "print(f\"Required sample size for average number of game sessions test: {int(n_sessions)}\")\n"
   ]
  },
  {
   "cell_type": "markdown",
   "id": "e9248b65",
   "metadata": {
    "papermill": {
     "duration": 0.016933,
     "end_time": "2024-06-17T06:40:01.503736",
     "exception": false,
     "start_time": "2024-06-17T06:40:01.486803",
     "status": "completed"
    },
    "tags": []
   },
   "source": [
    "### Method 2: Implement from scratch:"
   ]
  },
  {
   "cell_type": "code",
   "execution_count": 93,
   "id": "7d7a7b70",
   "metadata": {
    "execution": {
     "iopub.execute_input": "2024-06-17T06:40:01.539597Z",
     "iopub.status.busy": "2024-06-17T06:40:01.539173Z",
     "iopub.status.idle": "2024-06-17T06:40:01.548484Z",
     "shell.execute_reply": "2024-06-17T06:40:01.546789Z"
    },
    "papermill": {
     "duration": 0.029709,
     "end_time": "2024-06-17T06:40:01.551016",
     "exception": false,
     "start_time": "2024-06-17T06:40:01.521307",
     "status": "completed"
    },
    "tags": []
   },
   "outputs": [
    {
     "name": "stdout",
     "output_type": "stream",
     "text": [
      "Required sample size for average number of game sessions test: 471\n"
     ]
    }
   ],
   "source": [
    "import numpy as np\n",
    "\n",
    "# Define effect size for the continuous outcome\n",
    "effect_size_sessions = 5  # Difference in average number of sessions\n",
    "\n",
    "# Calculate the standard deviation of the sum_gamerounds column\n",
    "std_dev_sessions = pd.concat([control_group['sum_gamerounds'],treatment_group['sum_gamerounds']]).std()\n",
    "\n",
    "# Calculate the required sample size for the continuous outcome\n",
    "n_sessions = int(((Z_alpha + Z_beta) * std_dev_sessions / effect_size_sessions) ** 2 * 2)\n",
    "\n",
    "print(f\"Required sample size for average number of game sessions test: {n_sessions}\")\n"
   ]
  },
  {
   "cell_type": "markdown",
   "id": "e3bef82b",
   "metadata": {
    "papermill": {
     "duration": 0.016092,
     "end_time": "2024-06-17T06:40:01.583111",
     "exception": false,
     "start_time": "2024-06-17T06:40:01.567019",
     "status": "completed"
    },
    "tags": []
   },
   "source": [
    "# 5.1 Assign Users for Retention After 1 Day\n",
    "\n",
    "To conduct the A/B test for retention after 1 day, we need to randomly assign users to the control and treatment groups based on the calculated sample size. This ensures that each group has an equal representation of users, and the test results are reliable.\n",
    "\n",
    "### Steps:\n",
    "1. Randomly select the required number of users for the control and treatment groups from the dataset.\n",
    "2. Ensure that the selected users for both groups meet the sample size requirements.\n"
   ]
  },
  {
   "cell_type": "code",
   "execution_count": 94,
   "id": "fe62a599",
   "metadata": {
    "execution": {
     "iopub.execute_input": "2024-06-17T06:40:01.616788Z",
     "iopub.status.busy": "2024-06-17T06:40:01.616340Z",
     "iopub.status.idle": "2024-06-17T06:40:01.629515Z",
     "shell.execute_reply": "2024-06-17T06:40:01.628298Z"
    },
    "papermill": {
     "duration": 0.032776,
     "end_time": "2024-06-17T06:40:01.631780",
     "exception": false,
     "start_time": "2024-06-17T06:40:01.599004",
     "status": "completed"
    },
    "tags": []
   },
   "outputs": [
    {
     "name": "stdout",
     "output_type": "stream",
     "text": [
      "Sample size for control group (retention 1 day): 9397\n",
      "Sample size for treatment group (retention 1 day): 9397\n"
     ]
    }
   ],
   "source": [
    "import numpy as np\n",
    "\n",
    "# Set random seed for reproducibility\n",
    "np.random.seed(42)\n",
    "\n",
    "# Randomly select users for control and treatment groups based on the calculated sample size for retention after 1 day\n",
    "control_users_retention_1   =   control_group.sample(n=int(n_retention_1), random_state=42)\n",
    "treatment_users_retention_1 = treatment_group.sample(n=int(n_retention_1), random_state=42)\n",
    "\n",
    "# Verify the sample sizes\n",
    "print(f\"Sample size for control group (retention 1 day): {len(control_users_retention_1)}\")\n",
    "print(f\"Sample size for treatment group (retention 1 day): {len(treatment_users_retention_1)}\")\n",
    "\n"
   ]
  },
  {
   "cell_type": "markdown",
   "id": "6e21a263",
   "metadata": {
    "papermill": {
     "duration": 0.015478,
     "end_time": "2024-06-17T06:40:01.662874",
     "exception": false,
     "start_time": "2024-06-17T06:40:01.647396",
     "status": "completed"
    },
    "tags": []
   },
   "source": [
    "# 5.2 Assign Users for Retention After 7 Days\n",
    "\n",
    "To conduct the A/B test for retention after 7 days, we need to randomly assign users to the control and treatment groups based on the calculated sample size. This ensures that each group has an equal representation of users, and the test results are reliable.\n",
    "\n",
    "### Steps:\n",
    "1. Randomly select the required number of users for the control and treatment groups from the dataset.\n",
    "2. Ensure that the selected users for both groups meet the sample size requirements.\n"
   ]
  },
  {
   "cell_type": "code",
   "execution_count": 95,
   "id": "9d8b2160",
   "metadata": {
    "execution": {
     "iopub.execute_input": "2024-06-17T06:40:01.695880Z",
     "iopub.status.busy": "2024-06-17T06:40:01.695469Z",
     "iopub.status.idle": "2024-06-17T06:40:01.707843Z",
     "shell.execute_reply": "2024-06-17T06:40:01.706648Z"
    },
    "papermill": {
     "duration": 0.031732,
     "end_time": "2024-06-17T06:40:01.710192",
     "exception": false,
     "start_time": "2024-06-17T06:40:01.678460",
     "status": "completed"
    },
    "tags": []
   },
   "outputs": [
    {
     "name": "stdout",
     "output_type": "stream",
     "text": [
      "Sample size for control group (retention 7 days): 761\n",
      "Sample size for treatment group (retention 7 days): 761\n"
     ]
    }
   ],
   "source": [
    "# Randomly select users for control and treatment groups based on the calculated sample size for retention after 7 days\n",
    "control_users_retention_7 = control_group.sample(n=int(n_retention_7), random_state=43)\n",
    "treatment_users_retention_7 = treatment_group.sample(n=int(n_retention_7), random_state=43)\n",
    "\n",
    "# Verify the sample sizes\n",
    "print(f\"Sample size for control group (retention 7 days): {len(control_users_retention_7)}\")\n",
    "print(f\"Sample size for treatment group (retention 7 days): {len(treatment_users_retention_7)}\")\n",
    "\n"
   ]
  },
  {
   "cell_type": "markdown",
   "id": "d7cb4bb9",
   "metadata": {
    "papermill": {
     "duration": 0.015561,
     "end_time": "2024-06-17T06:40:01.741346",
     "exception": false,
     "start_time": "2024-06-17T06:40:01.725785",
     "status": "completed"
    },
    "tags": []
   },
   "source": [
    "# 5.3 Assign Users for Sum of Game Rounds\n",
    "\n",
    "To conduct the A/B test for the sum of game rounds, we need to randomly assign users to the control and treatment groups based on the calculated sample size. This ensures that each group has an equal representation of users, and the test results are reliable.\n",
    "\n",
    "### Steps:\n",
    "1. Randomly select the required number of users for the control and treatment groups from the dataset.\n",
    "2. Ensure that the selected users for both groups meet the sample size requirements.\n"
   ]
  },
  {
   "cell_type": "code",
   "execution_count": 96,
   "id": "fbc61db5",
   "metadata": {
    "execution": {
     "iopub.execute_input": "2024-06-17T06:40:01.774539Z",
     "iopub.status.busy": "2024-06-17T06:40:01.774161Z",
     "iopub.status.idle": "2024-06-17T06:40:01.785521Z",
     "shell.execute_reply": "2024-06-17T06:40:01.784288Z"
    },
    "papermill": {
     "duration": 0.030777,
     "end_time": "2024-06-17T06:40:01.787794",
     "exception": false,
     "start_time": "2024-06-17T06:40:01.757017",
     "status": "completed"
    },
    "tags": []
   },
   "outputs": [
    {
     "name": "stdout",
     "output_type": "stream",
     "text": [
      "Sample size for control group (sum of game rounds): 471\n",
      "Sample size for treatment group (sum of game rounds): 471\n"
     ]
    }
   ],
   "source": [
    "# Randomly select users for control and treatment groups based on the calculated sample size for sum of game rounds\n",
    "control_users_gamerounds = control_group.sample(n=int(n_sessions), random_state=42)\n",
    "treatment_users_gamerounds = treatment_group.sample(n=int(n_sessions), random_state=42)\n",
    "\n",
    "# Verify the sample sizes\n",
    "print(f\"Sample size for control group (sum of game rounds): {len(control_users_gamerounds)}\")\n",
    "print(f\"Sample size for treatment group (sum of game rounds): {len(treatment_users_gamerounds)}\")"
   ]
  },
  {
   "cell_type": "markdown",
   "id": "285cbc86",
   "metadata": {
    "papermill": {
     "duration": 0.015905,
     "end_time": "2024-06-17T06:40:01.820415",
     "exception": false,
     "start_time": "2024-06-17T06:40:01.804510",
     "status": "completed"
    },
    "tags": []
   },
   "source": [
    "# 6.1 Perform A/B Test for Retention After 1 Day\n",
    "\n",
    "**Question**: Has player retention increased by 2% after 1 day?\n",
    "\n",
    "To determine if the retention rate after 1 day has increased by 2% in the treatment group compared to the control group, we will perform a Z-test for proportions.\n",
    "\n",
    "### Assumptions for the Z-Test:\n",
    "1. **Independence**:\n",
    "   - Observations in the sample must be independent of each other.\n",
    "   - This is typically ensured by random sampling and proper experimental design.\n",
    "\n",
    "\n",
    "2. **Normality**:\n",
    "   - For a Z-test, we assume that the sampling distribution of the sample proportion is approximately normal.\n",
    "   - This assumption holds if the sample size is large enough, usually with both \\(np\\) and \\(n(1-p)\\) greater than 5.\n",
    "\n",
    "\n",
    "3. **Large Sample Size**:\n",
    "   - The number of successes and failures in each group should be large enough to justify the use of the normal approximation to the binomial distribution.\n",
    "\n",
    "### Steps:\n",
    "1. Calculate the observed proportions of retention in both groups.\n",
    "2. Perform a Z-test for proportions to compare the retention rates.\n",
    "3. Determine if the difference is statistically significant.\n"
   ]
  },
  {
   "cell_type": "markdown",
   "id": "adb7dfd8",
   "metadata": {
    "papermill": {
     "duration": 0.015878,
     "end_time": "2024-06-17T06:40:01.853300",
     "exception": false,
     "start_time": "2024-06-17T06:40:01.837422",
     "status": "completed"
    },
    "tags": []
   },
   "source": [
    "### Method 1 ,First implementation approach:"
   ]
  },
  {
   "cell_type": "code",
   "execution_count": 97,
   "id": "f5d8b00d",
   "metadata": {
    "execution": {
     "iopub.execute_input": "2024-06-17T06:40:01.889357Z",
     "iopub.status.busy": "2024-06-17T06:40:01.888952Z",
     "iopub.status.idle": "2024-06-17T06:40:01.901110Z",
     "shell.execute_reply": "2024-06-17T06:40:01.900009Z"
    },
    "papermill": {
     "duration": 0.033512,
     "end_time": "2024-06-17T06:40:01.903471",
     "exception": false,
     "start_time": "2024-06-17T06:40:01.869959",
     "status": "completed"
    },
    "tags": []
   },
   "outputs": [
    {
     "name": "stdout",
     "output_type": "stream",
     "text": [
      "All assumptions are met for the Z-test.\n",
      "Z-statistic for retention after 1 day: -0.6299651909770788\n",
      "P-value for retention after 1 day: 0.73564132058017\n",
      "Fail to reject the null hypothesis: The retention rate after 1 day has not significantly increased.\n"
     ]
    }
   ],
   "source": [
    "from statsmodels.stats.proportion import proportions_ztest\n",
    "\n",
    "# Define alpha \n",
    "alpha = 0.05\n",
    "\n",
    "# Calculate the observed proportions of retention in both groups\n",
    "p_control = control_users_retention_1['retention_1'].mean()\n",
    "p_treatment = treatment_users_retention_1['retention_1'].mean()\n",
    "n_control = len(control_users_retention_1)\n",
    "n_treatment = len(treatment_users_retention_1)\n",
    "\n",
    "# Ensure np and n(1-p) are greater than 5 for both groups\n",
    "assumptions_met = True\n",
    "if n_control * p_control <= 5:\n",
    "    print(\"Assumption not met: np > 5 for control group\")\n",
    "    assumptions_met = False\n",
    "if n_control * (1 - p_control) <= 5:\n",
    "    print(\"Assumption not met: n(1-p) > 5 for control group\")\n",
    "    assumptions_met = False\n",
    "if n_treatment * p_treatment <= 5:\n",
    "    print(\"Assumption not met: np > 5 for treatment group\")\n",
    "    assumptions_met = False\n",
    "if n_treatment * (1 - p_treatment) <= 5:\n",
    "    print(\"Assumption not met: n(1-p) > 5 for treatment group\")\n",
    "    assumptions_met = False\n",
    "\n",
    "if assumptions_met:\n",
    "    print(\"All assumptions are met for the Z-test.\")\n",
    "\n",
    "    # Calculate the number of successes (retained users) and the number of trials (total users) in both groups\n",
    "    successes_retention_1 = [treatment_users_retention_1['retention_1'].sum(), control_users_retention_1['retention_1'].sum()]\n",
    "    n_obs_retention_1 = [len(treatment_users_retention_1), len(control_users_retention_1)]\n",
    "\n",
    "    # Perform a one-tailed Z-test for proportions to check if the treatment is better than control\n",
    "    z_stat_retention_1, p_val_retention_1 = proportions_ztest(successes_retention_1, n_obs_retention_1, value=0, alternative='larger')\n",
    "    \n",
    "    # Print the results\n",
    "    print(f\"Z-statistic for retention after 1 day: {z_stat_retention_1}\")\n",
    "    print(f\"P-value for retention after 1 day: {p_val_retention_1}\")\n",
    "\n",
    "    # Determine if the result is statistically significant\n",
    "    if p_val_retention_1 < alpha:\n",
    "        print(\"Reject the null hypothesis: The retention rate after 1 day has significantly increased.\")\n",
    "    else:\n",
    "        print(\"Fail to reject the null hypothesis: The retention rate after 1 day has not significantly increased.\")\n",
    "else:\n",
    "    print(\"Z-test assumptions not met, cannot perform the test.\")\n"
   ]
  },
  {
   "cell_type": "markdown",
   "id": "26040c78",
   "metadata": {
    "papermill": {
     "duration": 0.015828,
     "end_time": "2024-06-17T06:40:01.935604",
     "exception": false,
     "start_time": "2024-06-17T06:40:01.919776",
     "status": "completed"
    },
    "tags": []
   },
   "source": [
    "### Method 1 ,Second implementation approach"
   ]
  },
  {
   "cell_type": "code",
   "execution_count": 99,
   "id": "a2d1fd8e",
   "metadata": {
    "execution": {
     "iopub.execute_input": "2024-06-17T06:40:01.971048Z",
     "iopub.status.busy": "2024-06-17T06:40:01.970646Z",
     "iopub.status.idle": "2024-06-17T06:40:01.982222Z",
     "shell.execute_reply": "2024-06-17T06:40:01.980999Z"
    },
    "papermill": {
     "duration": 0.033337,
     "end_time": "2024-06-17T06:40:01.985206",
     "exception": false,
     "start_time": "2024-06-17T06:40:01.951869",
     "status": "completed"
    },
    "tags": []
   },
   "outputs": [
    {
     "name": "stdout",
     "output_type": "stream",
     "text": [
      "All assumptions are met for the Z-test.\n",
      "[3628, 3586] [9397, 9397]\n",
      "Z-statistic for retention after 1 day: 0.6299651909770788\n",
      "P-value for retention after 1 day: 0.73564132058017\n",
      "Fail to reject the null hypothesis: The retention rate after 1 day has not significantly increased.\n"
     ]
    }
   ],
   "source": [
    "from statsmodels.stats.proportion import proportions_ztest\n",
    "\n",
    "# Define alpha \n",
    "alpha = 0.05\n",
    "\n",
    "# Calculate the observed proportions of retention in both groups\n",
    "p_control = control_users_retention_1['retention_1'].mean()\n",
    "p_treatment = treatment_users_retention_1['retention_1'].mean()\n",
    "n_control = len(control_users_retention_1)\n",
    "n_treatment = len(treatment_users_retention_1)\n",
    "\n",
    "# Ensure np and n(1-p) are greater than 5 for both groups\n",
    "assumptions_met = True\n",
    "if n_control * p_control <= 5:\n",
    "    print(\"Assumption not met: np > 5 for control group\")\n",
    "    assumptions_met = False\n",
    "if n_control * (1 - p_control) <= 5:\n",
    "    print(\"Assumption not met: n(1-p) > 5 for control group\")\n",
    "    assumptions_met = False\n",
    "if n_treatment * p_treatment <= 5:\n",
    "    print(\"Assumption not met: np > 5 for treatment group\")\n",
    "    assumptions_met = False\n",
    "if n_treatment * (1 - p_treatment) <= 5:\n",
    "    print(\"Assumption not met: n(1-p) > 5 for treatment group\")\n",
    "    assumptions_met = False\n",
    "\n",
    "if assumptions_met:\n",
    "    print(\"All assumptions are met for the Z-test.\")\n",
    "\n",
    "    # Calculate the number of successes (retained users) and the number of trials (total users) in both groups\n",
    "    successes_retention_1 = [control_users_retention_1['retention_1'].sum(), treatment_users_retention_1['retention_1'].sum()]\n",
    "    n_obs_retention_1 = [len(control_users_retention_1), len(treatment_users_retention_1)]\n",
    "    print(successes_retention_1, n_obs_retention_1)\n",
    "    # Perform a one-tailed Z-test for proportions to check if the treatment is worse than control\n",
    "    z_stat_retention_1, p_val_retention_1 = proportions_ztest(successes_retention_1, n_obs_retention_1, value=0, alternative='smaller')\n",
    "    \n",
    "    # Print the results\n",
    "    print(f\"Z-statistic for retention after 1 day: {z_stat_retention_1}\")\n",
    "    print(f\"P-value for retention after 1 day: {p_val_retention_1}\")\n",
    "\n",
    "    # Determine if the result is statistically significant\n",
    "    if p_val_retention_1 < alpha:\n",
    "        print(\"Reject the null hypothesis: The retention rate after 1 day has significantly increased.\")\n",
    "    else:\n",
    "        print(\"Fail to reject the null hypothesis: The retention rate after 1 day has not significantly increased.\")\n",
    "else:\n",
    "    print(\"Z-test assumptions not met, cannot perform the test.\")\n",
    "\n"
   ]
  },
  {
   "cell_type": "markdown",
   "id": "fae68273",
   "metadata": {
    "papermill": {
     "duration": 0.015942,
     "end_time": "2024-06-17T06:40:02.018073",
     "exception": false,
     "start_time": "2024-06-17T06:40:02.002131",
     "status": "completed"
    },
    "tags": []
   },
   "source": [
    "# 6.2 Perform A/B Test for Retention After 7 Days\n",
    "\n",
    "**Question**: Has player retention increased by 5% after 7 days?\n",
    "\n",
    "To determine if the retention rate after 7 days has increased by 5% in the treatment group compared to the control group, we will perform a Z-test for proportions.\n",
    "\n",
    "### Assumptions for the Z-Test:\n",
    "1. **Independence**:\n",
    "   - Observations in the sample must be independent of each other.\n",
    "   - This is typically ensured by random sampling and proper experimental design.\n",
    "\n",
    "\n",
    "2. **Normality**:\n",
    "   - For a Z-test, we assume that the sampling distribution of the sample proportion is approximately normal.\n",
    "   - This assumption holds if the sample size is large enough, usually with both \\(np\\) and \\(n(1-p)\\) greater than 5.\n",
    "\n",
    "\n",
    "3. **Large Sample Size**:\n",
    "   - The number of successes and failures in each group should be large enough to justify the use of the normal approximation to the binomial distribution.\n",
    "\n",
    "### Steps:\n",
    "1. Calculate the observed proportions of retention in both groups.\n",
    "2. Perform a Z-test for proportions to compare the retention rates.\n",
    "3. Determine if the difference is statistically significant.\n"
   ]
  },
  {
   "cell_type": "markdown",
   "id": "2c88141b",
   "metadata": {
    "papermill": {
     "duration": 0.015923,
     "end_time": "2024-06-17T06:40:02.050189",
     "exception": false,
     "start_time": "2024-06-17T06:40:02.034266",
     "status": "completed"
    },
    "tags": []
   },
   "source": [
    "### Method 1 ,First implementation approach:"
   ]
  },
  {
   "cell_type": "code",
   "execution_count": 100,
   "id": "9657c8d7",
   "metadata": {
    "execution": {
     "iopub.execute_input": "2024-06-17T06:40:02.085398Z",
     "iopub.status.busy": "2024-06-17T06:40:02.085037Z",
     "iopub.status.idle": "2024-06-17T06:40:02.097088Z",
     "shell.execute_reply": "2024-06-17T06:40:02.095870Z"
    },
    "papermill": {
     "duration": 0.032806,
     "end_time": "2024-06-17T06:40:02.099556",
     "exception": false,
     "start_time": "2024-06-17T06:40:02.066750",
     "status": "completed"
    },
    "tags": []
   },
   "outputs": [
    {
     "name": "stdout",
     "output_type": "stream",
     "text": [
      "All assumptions are met for the Z-test.\n",
      "Z-statistic for retention after 7 days: -1.933298872613932\n",
      "P-value for retention after 7 days: 0.9734003046855899\n",
      "Fail to reject the null hypothesis: The retention rate after 7 days has not significantly increased.\n"
     ]
    }
   ],
   "source": [
    "from statsmodels.stats.proportion import proportions_ztest\n",
    "\n",
    "# Define alpha \n",
    "alpha = 0.05\n",
    "\n",
    "# Check the assumptions\n",
    "# Calculate the observed proportions of retention in both groups\n",
    "p_control_7 = control_users_retention_7['retention_7'].mean()\n",
    "p_treatment_7 = treatment_users_retention_7['retention_7'].mean()\n",
    "n_control_7 = len(control_users_retention_7)\n",
    "n_treatment_7 = len(treatment_users_retention_7)\n",
    "\n",
    "# Ensure np and n(1-p) are greater than 5 for both groups\n",
    "assumptions_met = True\n",
    "if n_control_7 * p_control_7 <= 5:\n",
    "    print(\"Assumption not met: np > 5 for control group\")\n",
    "    assumptions_met = False\n",
    "if n_control_7 * (1 - p_control_7) <= 5:\n",
    "    print(\"Assumption not met: n(1-p) > 5 for control group\")\n",
    "    assumptions_met = False\n",
    "if n_treatment_7 * p_treatment_7 <= 5:\n",
    "    print(\"Assumption not met: np > 5 for treatment group\")\n",
    "    assumptions_met = False\n",
    "if n_treatment_7 * (1 - p_treatment_7) <= 5:\n",
    "    print(\"Assumption not met: n(1-p) > 5 for treatment group\")\n",
    "    assumptions_met = False\n",
    "\n",
    "if assumptions_met:\n",
    "    print(\"All assumptions are met for the Z-test.\")\n",
    "\n",
    "    # Calculate the number of successes (retained users) and the number of trials (total users) in both groups\n",
    "    successes_retention_7 = [treatment_users_retention_7['retention_7'].sum(), control_users_retention_7['retention_7'].sum()]\n",
    "    n_obs_retention_7 = [len(treatment_users_retention_7), len(control_users_retention_7)]\n",
    "\n",
    "    # Perform a one-tailed Z-test for proportions to check if the treatment is better than control\n",
    "    z_stat_retention_7, p_val_retention_7 = proportions_ztest(successes_retention_7, n_obs_retention_7, value=0, alternative='larger')\n",
    "    \n",
    "    # Print the results\n",
    "    print(f\"Z-statistic for retention after 7 days: {z_stat_retention_7}\")\n",
    "    print(f\"P-value for retention after 7 days: {p_val_retention_7}\")\n",
    "\n",
    "    # Determine if the result is statistically significant\n",
    "    if p_val_retention_7 < alpha:\n",
    "        print(\"Reject the null hypothesis: The retention rate after 7 days has significantly increased.\")\n",
    "    else:\n",
    "        print(\"Fail to reject the null hypothesis: The retention rate after 7 days has not significantly increased.\")\n",
    "else:\n",
    "    print(\"Z-test assumptions not met, cannot perform the test.\")\n"
   ]
  },
  {
   "cell_type": "markdown",
   "id": "5f961b9e",
   "metadata": {
    "papermill": {
     "duration": 0.016431,
     "end_time": "2024-06-17T06:40:02.132131",
     "exception": false,
     "start_time": "2024-06-17T06:40:02.115700",
     "status": "completed"
    },
    "tags": []
   },
   "source": [
    "### Method 1 ,Second implementation approach:"
   ]
  },
  {
   "cell_type": "code",
   "execution_count": 101,
   "id": "7d9c80c5",
   "metadata": {
    "execution": {
     "iopub.execute_input": "2024-06-17T06:40:02.166812Z",
     "iopub.status.busy": "2024-06-17T06:40:02.165841Z",
     "iopub.status.idle": "2024-06-17T06:40:02.177405Z",
     "shell.execute_reply": "2024-06-17T06:40:02.176233Z"
    },
    "papermill": {
     "duration": 0.03167,
     "end_time": "2024-06-17T06:40:02.180072",
     "exception": false,
     "start_time": "2024-06-17T06:40:02.148402",
     "status": "completed"
    },
    "tags": []
   },
   "outputs": [
    {
     "name": "stdout",
     "output_type": "stream",
     "text": [
      "All assumptions are met for the Z-test.\n",
      "Z-statistic for retention after 7 days: 1.933298872613932\n",
      "P-value for retention after 7 days: 0.9734003046855899\n",
      "Fail to reject the null hypothesis: The retention rate after 7 days has not significantly increased.\n"
     ]
    }
   ],
   "source": [
    "from statsmodels.stats.proportion import proportions_ztest\n",
    "\n",
    "# Define alpha \n",
    "alpha = 0.05\n",
    "\n",
    "# Check the assumptions\n",
    "# Calculate the observed proportions of retention in both groups\n",
    "p_control_7 = control_users_retention_7['retention_7'].mean()\n",
    "p_treatment_7 = treatment_users_retention_7['retention_7'].mean()\n",
    "n_control_7 = len(control_users_retention_7)\n",
    "n_treatment_7 = len(treatment_users_retention_7)\n",
    "\n",
    "# Ensure np and n(1-p) are greater than 5 for both groups\n",
    "assumptions_met = True\n",
    "if n_control_7 * p_control_7 <= 5:\n",
    "    print(\"Assumption not met: np > 5 for control group\")\n",
    "    assumptions_met = False\n",
    "if n_control_7 * (1 - p_control_7) <= 5:\n",
    "    print(\"Assumption not met: n(1-p) > 5 for control group\")\n",
    "    assumptions_met = False\n",
    "if n_treatment_7 * p_treatment_7 <= 5:\n",
    "    print(\"Assumption not met: np > 5 for treatment group\")\n",
    "    assumptions_met = False\n",
    "if n_treatment_7 * (1 - p_treatment_7) <= 5:\n",
    "    print(\"Assumption not met: n(1-p) > 5 for treatment group\")\n",
    "    assumptions_met = False\n",
    "\n",
    "if assumptions_met:\n",
    "    print(\"All assumptions are met for the Z-test.\")\n",
    "\n",
    "    # Calculate the number of successes (retained users) and the number of trials (total users) in both groups\n",
    "    successes_retention_7 = [control_users_retention_7['retention_7'].sum(), treatment_users_retention_7['retention_7'].sum()]\n",
    "    n_obs_retention_7 = [len(control_users_retention_7), len(treatment_users_retention_7)]\n",
    "\n",
    "    # Perform a one-tailed Z-test for proportions to check if the treatment is worse than control\n",
    "    z_stat_retention_7, p_val_retention_7 = proportions_ztest(successes_retention_7, n_obs_retention_7, value=0, alternative='smaller')\n",
    "    \n",
    "    # Print the results\n",
    "    print(f\"Z-statistic for retention after 7 days: {z_stat_retention_7}\")\n",
    "    print(f\"P-value for retention after 7 days: {p_val_retention_7}\")\n",
    "\n",
    "    # Determine if the result is statistically significant\n",
    "    if p_val_retention_7 < alpha:\n",
    "        print(\"Reject the null hypothesis: The retention rate after 7 days has significantly increased.\")\n",
    "    else:\n",
    "        print(\"Fail to reject the null hypothesis: The retention rate after 7 days has not significantly increased.\")\n",
    "else:\n",
    "    print(\"Z-test assumptions not met, cannot perform the test.\")\n"
   ]
  },
  {
   "cell_type": "markdown",
   "id": "23e80d1a",
   "metadata": {
    "papermill": {
     "duration": 0.018969,
     "end_time": "2024-06-17T06:40:02.215218",
     "exception": false,
     "start_time": "2024-06-17T06:40:02.196249",
     "status": "completed"
    },
    "tags": []
   },
   "source": [
    "# 6.3 Perform A/B Test for Sum of Game Rounds\n",
    "\n",
    "**Question**: Has the average number of game sessions increased by 5 sessions?\n",
    "\n",
    "To determine if the average number of game sessions has increased by 5 sessions in the treatment group compared to the control group, we will perform a two-sample t-test.\n",
    "\n",
    "### Assumptions for the T-Test:\n",
    "1. **Independence**:\n",
    "   - Observations in the sample must be independent of each other.\n",
    "   - This is typically ensured by random sampling and proper experimental design.\n",
    "\n",
    "\n",
    "2. **Normality**:\n",
    "   - For a t-test, we assume that the samples are drawn from a normally distributed population.\n",
    "   - This assumption can be relaxed if the sample size is large (Central Limit Theorem).\n",
    "   \n",
    "\n",
    "3. **Equal Variances**:\n",
    "   - The t-test assumes that the variances of the two groups are equal. This can be tested using Levene’s test.\n",
    "\n",
    "### Steps:\n",
    "1. Calculate the means and standard deviations of the sum of game rounds in both groups.\n",
    "2. Perform a two-sample t-test to compare the means.\n",
    "3. Determine if the difference is statistically significant.\n"
   ]
  },
  {
   "cell_type": "markdown",
   "id": "eb6ea0ac",
   "metadata": {
    "papermill": {
     "duration": 0.015998,
     "end_time": "2024-06-17T06:40:02.248270",
     "exception": false,
     "start_time": "2024-06-17T06:40:02.232272",
     "status": "completed"
    },
    "tags": []
   },
   "source": [
    "### Method 1 ,First implementation approach:"
   ]
  },
  {
   "cell_type": "code",
   "execution_count": 113,
   "id": "222cc3b0",
   "metadata": {
    "execution": {
     "iopub.execute_input": "2024-06-17T06:40:02.283049Z",
     "iopub.status.busy": "2024-06-17T06:40:02.281886Z",
     "iopub.status.idle": "2024-06-17T06:40:02.297643Z",
     "shell.execute_reply": "2024-06-17T06:40:02.296354Z"
    },
    "papermill": {
     "duration": 0.035803,
     "end_time": "2024-06-17T06:40:02.300098",
     "exception": false,
     "start_time": "2024-06-17T06:40:02.264295",
     "status": "completed"
    },
    "tags": []
   },
   "outputs": [
    {
     "name": "stdout",
     "output_type": "stream",
     "text": [
      "Control group - Mean: 21.6135881104034, Std Dev: 24.122456785190625\n",
      "Treatment group - Mean: 25.656050955414013, Std Dev: 28.61848384459519\n",
      "Assumption not met: The variances of the two groups are not equal. Switching to Welch's t-test.\n",
      "T-statistic:  2.3439658998783415\n",
      "T-statistic for sum of game rounds: 2.343965899878341\n",
      "P-value for sum of game rounds: 0.00964666595715196\n",
      "Reject the null hypothesis: The average number of game sessions in the treatment group is significantly greater than in the control group.\n"
     ]
    }
   ],
   "source": [
    "from scipy.stats import ttest_ind, levene\n",
    "\n",
    "# Define alpha\n",
    "alpha = 0.05\n",
    "nx, ny = len(treatment_users_gamerounds), len(control_users_gamerounds),\n",
    "\n",
    "# Calculate the means and standard deviations of the sum of game rounds in both groups\n",
    "mean_control_gamerounds = control_users_gamerounds['sum_gamerounds'].mean()\n",
    "mean_treatment_gamerounds = treatment_users_gamerounds['sum_gamerounds'].mean()\n",
    "std_control_gamerounds = control_users_gamerounds['sum_gamerounds'].std()\n",
    "std_treatment_gamerounds = treatment_users_gamerounds['sum_gamerounds'].std()\n",
    "\n",
    "print(f\"Control group - Mean: {mean_control_gamerounds}, Std Dev: {std_control_gamerounds}\")\n",
    "print(f\"Treatment group - Mean: {mean_treatment_gamerounds}, Std Dev: {std_treatment_gamerounds}\")\n",
    "\n",
    "# Perform Levene's test for equality of variances\n",
    "stat, p_levene = levene(control_users_gamerounds['sum_gamerounds'], treatment_users_gamerounds['sum_gamerounds'])\n",
    "\n",
    "# Check if variances are equal\n",
    "if p_levene < alpha:\n",
    "    print(\"Assumption not met: The variances of the two groups are not equal. Switching to Welch's t-test.\")\n",
    "    equal_var = False\n",
    "else:\n",
    "    print(\"Assumption met: The variances of the two groups are equal.\")\n",
    "    equal_var = True\n",
    "\n",
    "# calculating T-statistic \n",
    "var = ((nx-1)*std_control_gamerounds**2 + (ny-1)*std_treatment_gamerounds**2)/(nx+ny-2)\n",
    "t = ((mean_treatment_gamerounds - mean_control_gamerounds)-0)/np.sqrt((var/nx) + (var/ny))\n",
    "print('T-statistic: ', t)\n",
    "\n",
    "# Perform a one-tailed t-test directly comparing the two groups\n",
    "t_stat_gamerounds, p_val_gamerounds = ttest_ind(treatment_users_gamerounds['sum_gamerounds'], control_users_gamerounds['sum_gamerounds'], equal_var=equal_var, alternative='greater')\n",
    "\n",
    "# Print the results\n",
    "print(f\"T-statistic for sum of game rounds: {t_stat_gamerounds}\")\n",
    "print(f\"P-value for sum of game rounds: {p_val_gamerounds}\")\n",
    "\n",
    "# Determine if the result is statistically significant\n",
    "if p_val_gamerounds < alpha:\n",
    "    print(\"Reject the null hypothesis: The average number of game sessions in the treatment group is significantly greater than in the control group.\")\n",
    "else:\n",
    "    print(\"Fail to reject the null hypothesis: The average number of game sessions in the treatment group is not significantly greater than in the control group.\")\n"
   ]
  },
  {
   "cell_type": "markdown",
   "id": "2657cfb9",
   "metadata": {
    "papermill": {
     "duration": 0.016581,
     "end_time": "2024-06-17T06:40:02.333300",
     "exception": false,
     "start_time": "2024-06-17T06:40:02.316719",
     "status": "completed"
    },
    "tags": []
   },
   "source": [
    "### Method 1 ,Second implementation approach:"
   ]
  },
  {
   "cell_type": "code",
   "execution_count": 28,
   "id": "0f0dd3b3",
   "metadata": {
    "execution": {
     "iopub.execute_input": "2024-06-17T06:40:02.368222Z",
     "iopub.status.busy": "2024-06-17T06:40:02.367767Z",
     "iopub.status.idle": "2024-06-17T06:40:02.379809Z",
     "shell.execute_reply": "2024-06-17T06:40:02.378711Z"
    },
    "papermill": {
     "duration": 0.032588,
     "end_time": "2024-06-17T06:40:02.382571",
     "exception": false,
     "start_time": "2024-06-17T06:40:02.349983",
     "status": "completed"
    },
    "tags": []
   },
   "outputs": [
    {
     "name": "stdout",
     "output_type": "stream",
     "text": [
      "Control group - Mean: 21.6135881104034, Std Dev: 24.122456785190625\n",
      "Treatment group - Mean: 25.656050955414013, Std Dev: 28.61848384459519\n",
      "Assumption not met: The variances of the two groups are not equal. Switching to Welch's t-test.\n",
      "T-statistic for sum of game rounds: -2.343965899878341\n",
      "P-value for sum of game rounds: 0.00964666595715196\n",
      "Reject the null hypothesis: The average number of game sessions in the treatment group is significantly greater than in the control group.\n"
     ]
    }
   ],
   "source": [
    "from scipy.stats import ttest_ind, levene\n",
    "\n",
    "# Define alpha\n",
    "alpha = 0.05\n",
    "\n",
    "# Calculate the means and standard deviations of the sum of game rounds in both groups\n",
    "mean_control_gamerounds = control_users_gamerounds['sum_gamerounds'].mean()\n",
    "mean_treatment_gamerounds = treatment_users_gamerounds['sum_gamerounds'].mean()\n",
    "std_control_gamerounds = control_users_gamerounds['sum_gamerounds'].std()\n",
    "std_treatment_gamerounds = treatment_users_gamerounds['sum_gamerounds'].std()\n",
    "\n",
    "print(f\"Control group - Mean: {mean_control_gamerounds}, Std Dev: {std_control_gamerounds}\")\n",
    "print(f\"Treatment group - Mean: {mean_treatment_gamerounds}, Std Dev: {std_treatment_gamerounds}\")\n",
    "\n",
    "# Perform Levene's test for equality of variances\n",
    "stat, p_levene = levene(control_users_gamerounds['sum_gamerounds'], treatment_users_gamerounds['sum_gamerounds'])\n",
    "\n",
    "# Check if variances are equal\n",
    "if p_levene < alpha:\n",
    "    print(\"Assumption not met: The variances of the two groups are not equal. Switching to Welch's t-test.\")\n",
    "    equal_var = False\n",
    "else:\n",
    "    print(\"Assumption met: The variances of the two groups are equal.\")\n",
    "    equal_var = True\n",
    "\n",
    "# Perform a one-tailed t-test directly comparing the two groups\n",
    "t_stat_gamerounds, p_val_gamerounds = ttest_ind(control_users_gamerounds['sum_gamerounds'], treatment_users_gamerounds['sum_gamerounds'], equal_var=equal_var, alternative='less')\n",
    "\n",
    "# Print the results\n",
    "print(f\"T-statistic for sum of game rounds: {t_stat_gamerounds}\")\n",
    "print(f\"P-value for sum of game rounds: {p_val_gamerounds}\")\n",
    "\n",
    "# Determine if the result is statistically significant\n",
    "if p_val_gamerounds < alpha:\n",
    "    print(\"Reject the null hypothesis: The average number of game sessions in the treatment group is significantly greater than in the control group.\")\n",
    "else:\n",
    "    print(\"Fail to reject the null hypothesis: The average number of game sessions in the treatment group is not significantly greater than in the control group.\")\n"
   ]
  },
  {
   "cell_type": "markdown",
   "id": "a311cb2f",
   "metadata": {
    "papermill": {
     "duration": 0.016606,
     "end_time": "2024-06-17T06:40:02.415449",
     "exception": false,
     "start_time": "2024-06-17T06:40:02.398843",
     "status": "completed"
    },
    "tags": []
   },
   "source": [
    "# 7. Analyze the Test Results\n",
    "\n",
    "### Practical Significance\n",
    "\n",
    "Statistical significance alone does not guarantee that the observed effect is meaningful in a real-world context. Practical significance assesses whether the magnitude of the effect has real-world implications and value. Here’s how to assess practical significance:\n",
    "\n",
    "1. **Effect Size**:\n",
    "   - Measure the effect size to understand the magnitude of the difference between the control and treatment groups.\n",
    "   - For retention rates, the effect size is the difference in proportions (e.g., a 2% increase in retention).\n",
    "   - For the sum of game rounds, the effect size is the difference in means (e.g., an average increase of 5 game sessions).\n",
    "\n",
    "\n",
    "2. **Real-World Impact**:\n",
    "   - Consider the implications of the observed effect in a real-world context. For example:\n",
    "     - A 2% increase in 1-day retention might lead to higher user engagement and potential revenue.\n",
    "     - A 5% increase in 7-day retention indicates improved long-term engagement, which is valuable for customer retention strategies.\n",
    "     - An average increase of 5 game sessions per user suggests enhanced user experience and satisfaction.\n",
    "\n",
    "\n",
    "3. **Cost-Benefit Analysis**:\n",
    "   - Evaluate the costs associated with implementing the treatment compared to the benefits derived from the observed effect.\n",
    "   - Consider factors such as development costs, marketing expenses, and potential revenue gains.\n",
    "\n",
    "\n",
    "### Report Findings\n",
    "\n",
    "After analyzing the statistical and practical significance of the results, it is important to compile and report the findings in a clear and comprehensive manner. Here’s how to report the findings:\n",
    "\n",
    "1. **Summary of Results**:\n",
    "   - Provide a summary of the key findings from the A/B tests, including the observed differences between the control and treatment groups for each test (retention after 1 day, retention after 7 days, and sum of game rounds).\n",
    "\n",
    "\n",
    "2. **Statistical Analysis Results**:\n",
    "   - Present the Z-statistics and p-values for the retention tests, and the T-statistics and p-values for the sum of game rounds test.\n",
    "   - Clearly state whether the null hypothesis was rejected or not for each test.\n",
    "\n",
    "\n",
    "3. **Practical Implications**:\n",
    "   - Discuss the practical significance of the results, including the effect sizes and their real-world impact.\n",
    "   - Highlight the potential benefits and costs associated with implementing the changes based on the test results.\n",
    "\n",
    "\n",
    "4. **Visualizations**:\n",
    "   - Include visualizations such as bar charts, line graphs, or box plots to illustrate the differences between the control and treatment groups.\n",
    "   - Use graphs to make the results more understandable and accessible to a broader audience.\n",
    "\n",
    "\n",
    "5. **Recommendations**:\n",
    "   - Provide recommendations based on the findings, such as whether to implement the treatment, conduct further testing, or consider alternative strategies.\n",
    "   - Offer actionable insights and next steps based on the results of the A/B tests."
   ]
  }
 ],
 "metadata": {
  "kaggle": {
   "accelerator": "none",
   "dataSources": [
    {
     "datasetId": 5205512,
     "sourceId": 8682953,
     "sourceType": "datasetVersion"
    }
   ],
   "dockerImageVersionId": 30732,
   "isGpuEnabled": false,
   "isInternetEnabled": true,
   "language": "python",
   "sourceType": "notebook"
  },
  "kernelspec": {
   "display_name": "Python 3 (ipykernel)",
   "language": "python",
   "name": "python3"
  },
  "language_info": {
   "codemirror_mode": {
    "name": "ipython",
    "version": 3
   },
   "file_extension": ".py",
   "mimetype": "text/x-python",
   "name": "python",
   "nbconvert_exporter": "python",
   "pygments_lexer": "ipython3",
   "version": "3.9.13"
  },
  "papermill": {
   "default_parameters": {},
   "duration": 12.258694,
   "end_time": "2024-06-17T06:40:03.086440",
   "environment_variables": {},
   "exception": null,
   "input_path": "__notebook__.ipynb",
   "output_path": "__notebook__.ipynb",
   "parameters": {},
   "start_time": "2024-06-17T06:39:50.827746",
   "version": "2.5.0"
  }
 },
 "nbformat": 4,
 "nbformat_minor": 5
}
